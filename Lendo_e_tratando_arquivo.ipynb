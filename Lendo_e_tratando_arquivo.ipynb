{
  "cells": [
    {
      "cell_type": "markdown",
      "metadata": {
        "id": "WYfovYvpPtHN"
      },
      "source": [
        "**Atualizando a biblioteca para plotagem de gráficos**\n"
      ]
    },
    {
      "cell_type": "code",
      "execution_count": 18,
      "metadata": {
        "id": "hTIKXbn7PfB3"
      },
      "outputs": [],
      "source": [
        "# !pip -q install plotly --upgrade\n",
        "# !pip install -U scikit-learn\n",
        "# !pip install pandas\n",
        "# !pip install seaborn"
      ]
    },
    {
      "cell_type": "markdown",
      "metadata": {
        "id": "vWFW_ECYPktU"
      },
      "source": [
        "**Importando bibliotecas**"
      ]
    },
    {
      "cell_type": "code",
      "execution_count": 19,
      "metadata": {
        "id": "kkOvJnL-P1QQ"
      },
      "outputs": [],
      "source": [
        "import pandas as pd\n",
        "import seaborn as sns\n"
      ]
    },
    {
      "cell_type": "markdown",
      "metadata": {
        "id": "A5YB5ubEQfaE"
      },
      "source": [
        "**Abrindo um arquivo CSV do drive**"
      ]
    },
    {
      "cell_type": "code",
      "execution_count": 20,
      "metadata": {
        "colab": {
          "base_uri": "https://localhost:8080/"
        },
        "id": "3rzDkhcBQddF",
        "outputId": "c2c49d6d-886b-481f-c414-e54480de3355"
      },
      "outputs": [],
      "source": [
        "base = pd.read_csv('balanced_under.csv')\n",
        "# base = pd.read_csv('balanced_over.csv')\n",
        "base2 = base.drop('Q03001', axis=1)\n"
      ]
    },
    {
      "cell_type": "markdown",
      "metadata": {
        "id": "y-g8wDMln18q"
      },
      "source": [
        "**Você também pode carregar seu arquivo e já selecionar as colunas que desejar... investigue esta função**"
      ]
    },
    {
      "cell_type": "code",
      "execution_count": 22,
      "metadata": {
        "colab": {
          "base_uri": "https://localhost:8080/",
          "height": 426
        },
        "id": "SFVtNXxPUAnR",
        "outputId": "e753a7b0-b42d-4dfd-bb83-6863ff1e6d58"
      },
      "outputs": [
        {
          "data": {
            "text/html": [
              "<div>\n",
              "<style scoped>\n",
              "    .dataframe tbody tr th:only-of-type {\n",
              "        vertical-align: middle;\n",
              "    }\n",
              "\n",
              "    .dataframe tbody tr th {\n",
              "        vertical-align: top;\n",
              "    }\n",
              "\n",
              "    .dataframe thead th {\n",
              "        text-align: right;\n",
              "    }\n",
              "</style>\n",
              "<table border=\"1\" class=\"dataframe\">\n",
              "  <thead>\n",
              "    <tr style=\"text-align: right;\">\n",
              "      <th></th>\n",
              "      <th>C006</th>\n",
              "      <th>C008</th>\n",
              "      <th>I00102</th>\n",
              "      <th>Q046017</th>\n",
              "      <th>Q046015</th>\n",
              "      <th>Q046018</th>\n",
              "      <th>Q03802</th>\n",
              "      <th>Q02901</th>\n",
              "      <th>Q03002</th>\n",
              "      <th>N001</th>\n",
              "      <th>...</th>\n",
              "      <th>P023</th>\n",
              "      <th>P027</th>\n",
              "      <th>P035</th>\n",
              "      <th>P05401</th>\n",
              "      <th>P052</th>\n",
              "      <th>P053</th>\n",
              "      <th>P050</th>\n",
              "      <th>P058</th>\n",
              "      <th>VDF004</th>\n",
              "      <th>Q03001</th>\n",
              "    </tr>\n",
              "  </thead>\n",
              "  <tbody>\n",
              "    <tr>\n",
              "      <th>0</th>\n",
              "      <td>1.0</td>\n",
              "      <td>0.785714</td>\n",
              "      <td>2.0</td>\n",
              "      <td>1.0</td>\n",
              "      <td>2.0</td>\n",
              "      <td>1.0</td>\n",
              "      <td>2.0</td>\n",
              "      <td>1.0</td>\n",
              "      <td>2.0</td>\n",
              "      <td>3.0</td>\n",
              "      <td>...</td>\n",
              "      <td>7.0</td>\n",
              "      <td>1.0</td>\n",
              "      <td>3.5</td>\n",
              "      <td>5.0</td>\n",
              "      <td>1.0</td>\n",
              "      <td>0.406780</td>\n",
              "      <td>3.0</td>\n",
              "      <td>5.0</td>\n",
              "      <td>4.0</td>\n",
              "      <td>1.0</td>\n",
              "    </tr>\n",
              "    <tr>\n",
              "      <th>1</th>\n",
              "      <td>2.0</td>\n",
              "      <td>0.678571</td>\n",
              "      <td>2.0</td>\n",
              "      <td>1.0</td>\n",
              "      <td>1.5</td>\n",
              "      <td>1.0</td>\n",
              "      <td>2.0</td>\n",
              "      <td>1.0</td>\n",
              "      <td>2.0</td>\n",
              "      <td>3.0</td>\n",
              "      <td>...</td>\n",
              "      <td>7.0</td>\n",
              "      <td>1.0</td>\n",
              "      <td>3.5</td>\n",
              "      <td>1.0</td>\n",
              "      <td>1.0</td>\n",
              "      <td>0.508475</td>\n",
              "      <td>3.0</td>\n",
              "      <td>6.0</td>\n",
              "      <td>3.0</td>\n",
              "      <td>1.0</td>\n",
              "    </tr>\n",
              "    <tr>\n",
              "      <th>2</th>\n",
              "      <td>1.0</td>\n",
              "      <td>0.523810</td>\n",
              "      <td>1.0</td>\n",
              "      <td>1.0</td>\n",
              "      <td>1.0</td>\n",
              "      <td>1.0</td>\n",
              "      <td>1.0</td>\n",
              "      <td>1.0</td>\n",
              "      <td>2.0</td>\n",
              "      <td>3.0</td>\n",
              "      <td>...</td>\n",
              "      <td>2.0</td>\n",
              "      <td>1.0</td>\n",
              "      <td>2.5</td>\n",
              "      <td>3.0</td>\n",
              "      <td>3.0</td>\n",
              "      <td>0.525424</td>\n",
              "      <td>3.0</td>\n",
              "      <td>1.0</td>\n",
              "      <td>5.0</td>\n",
              "      <td>1.0</td>\n",
              "    </tr>\n",
              "    <tr>\n",
              "      <th>3</th>\n",
              "      <td>2.0</td>\n",
              "      <td>0.940476</td>\n",
              "      <td>2.0</td>\n",
              "      <td>1.0</td>\n",
              "      <td>1.0</td>\n",
              "      <td>1.0</td>\n",
              "      <td>2.0</td>\n",
              "      <td>3.0</td>\n",
              "      <td>2.0</td>\n",
              "      <td>3.0</td>\n",
              "      <td>...</td>\n",
              "      <td>7.0</td>\n",
              "      <td>1.0</td>\n",
              "      <td>2.5</td>\n",
              "      <td>5.0</td>\n",
              "      <td>3.0</td>\n",
              "      <td>0.237288</td>\n",
              "      <td>3.0</td>\n",
              "      <td>3.0</td>\n",
              "      <td>4.0</td>\n",
              "      <td>1.0</td>\n",
              "    </tr>\n",
              "    <tr>\n",
              "      <th>4</th>\n",
              "      <td>2.0</td>\n",
              "      <td>0.178571</td>\n",
              "      <td>2.0</td>\n",
              "      <td>1.0</td>\n",
              "      <td>1.0</td>\n",
              "      <td>1.0</td>\n",
              "      <td>1.0</td>\n",
              "      <td>2.0</td>\n",
              "      <td>1.0</td>\n",
              "      <td>2.0</td>\n",
              "      <td>...</td>\n",
              "      <td>7.0</td>\n",
              "      <td>1.0</td>\n",
              "      <td>5.0</td>\n",
              "      <td>2.0</td>\n",
              "      <td>2.0</td>\n",
              "      <td>0.559322</td>\n",
              "      <td>3.0</td>\n",
              "      <td>3.0</td>\n",
              "      <td>4.0</td>\n",
              "      <td>1.0</td>\n",
              "    </tr>\n",
              "    <tr>\n",
              "      <th>...</th>\n",
              "      <td>...</td>\n",
              "      <td>...</td>\n",
              "      <td>...</td>\n",
              "      <td>...</td>\n",
              "      <td>...</td>\n",
              "      <td>...</td>\n",
              "      <td>...</td>\n",
              "      <td>...</td>\n",
              "      <td>...</td>\n",
              "      <td>...</td>\n",
              "      <td>...</td>\n",
              "      <td>...</td>\n",
              "      <td>...</td>\n",
              "      <td>...</td>\n",
              "      <td>...</td>\n",
              "      <td>...</td>\n",
              "      <td>...</td>\n",
              "      <td>...</td>\n",
              "      <td>...</td>\n",
              "      <td>...</td>\n",
              "      <td>...</td>\n",
              "    </tr>\n",
              "    <tr>\n",
              "      <th>12309</th>\n",
              "      <td>2.0</td>\n",
              "      <td>0.273810</td>\n",
              "      <td>2.0</td>\n",
              "      <td>1.0</td>\n",
              "      <td>1.5</td>\n",
              "      <td>1.5</td>\n",
              "      <td>2.0</td>\n",
              "      <td>1.0</td>\n",
              "      <td>1.5</td>\n",
              "      <td>2.0</td>\n",
              "      <td>...</td>\n",
              "      <td>7.0</td>\n",
              "      <td>1.0</td>\n",
              "      <td>5.0</td>\n",
              "      <td>3.0</td>\n",
              "      <td>1.0</td>\n",
              "      <td>0.440678</td>\n",
              "      <td>3.0</td>\n",
              "      <td>1.0</td>\n",
              "      <td>2.0</td>\n",
              "      <td>2.0</td>\n",
              "    </tr>\n",
              "    <tr>\n",
              "      <th>12310</th>\n",
              "      <td>1.0</td>\n",
              "      <td>0.916667</td>\n",
              "      <td>2.0</td>\n",
              "      <td>1.0</td>\n",
              "      <td>1.5</td>\n",
              "      <td>1.0</td>\n",
              "      <td>1.5</td>\n",
              "      <td>1.0</td>\n",
              "      <td>2.0</td>\n",
              "      <td>3.0</td>\n",
              "      <td>...</td>\n",
              "      <td>7.0</td>\n",
              "      <td>1.0</td>\n",
              "      <td>7.0</td>\n",
              "      <td>3.0</td>\n",
              "      <td>1.0</td>\n",
              "      <td>0.576271</td>\n",
              "      <td>3.0</td>\n",
              "      <td>5.0</td>\n",
              "      <td>3.0</td>\n",
              "      <td>2.0</td>\n",
              "    </tr>\n",
              "    <tr>\n",
              "      <th>12311</th>\n",
              "      <td>2.0</td>\n",
              "      <td>0.750000</td>\n",
              "      <td>2.0</td>\n",
              "      <td>1.0</td>\n",
              "      <td>1.0</td>\n",
              "      <td>1.0</td>\n",
              "      <td>2.0</td>\n",
              "      <td>2.0</td>\n",
              "      <td>2.0</td>\n",
              "      <td>4.0</td>\n",
              "      <td>...</td>\n",
              "      <td>0.0</td>\n",
              "      <td>1.0</td>\n",
              "      <td>4.5</td>\n",
              "      <td>3.0</td>\n",
              "      <td>1.0</td>\n",
              "      <td>0.440678</td>\n",
              "      <td>3.0</td>\n",
              "      <td>1.0</td>\n",
              "      <td>3.0</td>\n",
              "      <td>2.0</td>\n",
              "    </tr>\n",
              "    <tr>\n",
              "      <th>12312</th>\n",
              "      <td>1.0</td>\n",
              "      <td>0.654762</td>\n",
              "      <td>2.0</td>\n",
              "      <td>1.0</td>\n",
              "      <td>1.5</td>\n",
              "      <td>1.5</td>\n",
              "      <td>1.5</td>\n",
              "      <td>1.0</td>\n",
              "      <td>2.0</td>\n",
              "      <td>2.0</td>\n",
              "      <td>...</td>\n",
              "      <td>7.0</td>\n",
              "      <td>1.0</td>\n",
              "      <td>4.0</td>\n",
              "      <td>1.0</td>\n",
              "      <td>2.0</td>\n",
              "      <td>0.559322</td>\n",
              "      <td>3.0</td>\n",
              "      <td>1.0</td>\n",
              "      <td>4.0</td>\n",
              "      <td>2.0</td>\n",
              "    </tr>\n",
              "    <tr>\n",
              "      <th>12313</th>\n",
              "      <td>2.0</td>\n",
              "      <td>0.380952</td>\n",
              "      <td>1.0</td>\n",
              "      <td>1.0</td>\n",
              "      <td>1.5</td>\n",
              "      <td>1.5</td>\n",
              "      <td>2.0</td>\n",
              "      <td>3.0</td>\n",
              "      <td>2.0</td>\n",
              "      <td>2.0</td>\n",
              "      <td>...</td>\n",
              "      <td>7.0</td>\n",
              "      <td>1.0</td>\n",
              "      <td>5.0</td>\n",
              "      <td>1.0</td>\n",
              "      <td>3.0</td>\n",
              "      <td>0.610169</td>\n",
              "      <td>3.0</td>\n",
              "      <td>1.0</td>\n",
              "      <td>4.0</td>\n",
              "      <td>2.0</td>\n",
              "    </tr>\n",
              "  </tbody>\n",
              "</table>\n",
              "<p>12314 rows × 27 columns</p>\n",
              "</div>"
            ],
            "text/plain": [
              "       C006      C008  I00102  Q046017  Q046015  Q046018  Q03802  Q02901  \\\n",
              "0       1.0  0.785714     2.0      1.0      2.0      1.0     2.0     1.0   \n",
              "1       2.0  0.678571     2.0      1.0      1.5      1.0     2.0     1.0   \n",
              "2       1.0  0.523810     1.0      1.0      1.0      1.0     1.0     1.0   \n",
              "3       2.0  0.940476     2.0      1.0      1.0      1.0     2.0     3.0   \n",
              "4       2.0  0.178571     2.0      1.0      1.0      1.0     1.0     2.0   \n",
              "...     ...       ...     ...      ...      ...      ...     ...     ...   \n",
              "12309   2.0  0.273810     2.0      1.0      1.5      1.5     2.0     1.0   \n",
              "12310   1.0  0.916667     2.0      1.0      1.5      1.0     1.5     1.0   \n",
              "12311   2.0  0.750000     2.0      1.0      1.0      1.0     2.0     2.0   \n",
              "12312   1.0  0.654762     2.0      1.0      1.5      1.5     1.5     1.0   \n",
              "12313   2.0  0.380952     1.0      1.0      1.5      1.5     2.0     3.0   \n",
              "\n",
              "       Q03002  N001  ...  P023  P027  P035  P05401  P052      P053  P050  \\\n",
              "0         2.0   3.0  ...   7.0   1.0   3.5     5.0   1.0  0.406780   3.0   \n",
              "1         2.0   3.0  ...   7.0   1.0   3.5     1.0   1.0  0.508475   3.0   \n",
              "2         2.0   3.0  ...   2.0   1.0   2.5     3.0   3.0  0.525424   3.0   \n",
              "3         2.0   3.0  ...   7.0   1.0   2.5     5.0   3.0  0.237288   3.0   \n",
              "4         1.0   2.0  ...   7.0   1.0   5.0     2.0   2.0  0.559322   3.0   \n",
              "...       ...   ...  ...   ...   ...   ...     ...   ...       ...   ...   \n",
              "12309     1.5   2.0  ...   7.0   1.0   5.0     3.0   1.0  0.440678   3.0   \n",
              "12310     2.0   3.0  ...   7.0   1.0   7.0     3.0   1.0  0.576271   3.0   \n",
              "12311     2.0   4.0  ...   0.0   1.0   4.5     3.0   1.0  0.440678   3.0   \n",
              "12312     2.0   2.0  ...   7.0   1.0   4.0     1.0   2.0  0.559322   3.0   \n",
              "12313     2.0   2.0  ...   7.0   1.0   5.0     1.0   3.0  0.610169   3.0   \n",
              "\n",
              "       P058  VDF004  Q03001  \n",
              "0       5.0     4.0     1.0  \n",
              "1       6.0     3.0     1.0  \n",
              "2       1.0     5.0     1.0  \n",
              "3       3.0     4.0     1.0  \n",
              "4       3.0     4.0     1.0  \n",
              "...     ...     ...     ...  \n",
              "12309   1.0     2.0     2.0  \n",
              "12310   5.0     3.0     2.0  \n",
              "12311   1.0     3.0     2.0  \n",
              "12312   1.0     4.0     2.0  \n",
              "12313   1.0     4.0     2.0  \n",
              "\n",
              "[12314 rows x 27 columns]"
            ]
          },
          "execution_count": 22,
          "metadata": {},
          "output_type": "execute_result"
        }
      ],
      "source": [
        "base\n"
      ]
    },
    {
      "cell_type": "code",
      "execution_count": 23,
      "metadata": {
        "colab": {
          "base_uri": "https://localhost:8080/",
          "height": 143
        },
        "id": "WtFD-X3YVI4B",
        "outputId": "9dd2b8de-dd23-4997-a3bd-06afe458d138"
      },
      "outputs": [
        {
          "data": {
            "text/html": [
              "<div>\n",
              "<style scoped>\n",
              "    .dataframe tbody tr th:only-of-type {\n",
              "        vertical-align: middle;\n",
              "    }\n",
              "\n",
              "    .dataframe tbody tr th {\n",
              "        vertical-align: top;\n",
              "    }\n",
              "\n",
              "    .dataframe thead th {\n",
              "        text-align: right;\n",
              "    }\n",
              "</style>\n",
              "<table border=\"1\" class=\"dataframe\">\n",
              "  <thead>\n",
              "    <tr style=\"text-align: right;\">\n",
              "      <th></th>\n",
              "      <th>C006</th>\n",
              "      <th>C008</th>\n",
              "      <th>I00102</th>\n",
              "      <th>Q046017</th>\n",
              "      <th>Q046015</th>\n",
              "      <th>Q046018</th>\n",
              "      <th>Q03802</th>\n",
              "      <th>Q02901</th>\n",
              "      <th>Q03002</th>\n",
              "      <th>N001</th>\n",
              "      <th>...</th>\n",
              "      <th>P023</th>\n",
              "      <th>P027</th>\n",
              "      <th>P035</th>\n",
              "      <th>P05401</th>\n",
              "      <th>P052</th>\n",
              "      <th>P053</th>\n",
              "      <th>P050</th>\n",
              "      <th>P058</th>\n",
              "      <th>VDF004</th>\n",
              "      <th>Q03001</th>\n",
              "    </tr>\n",
              "  </thead>\n",
              "  <tbody>\n",
              "    <tr>\n",
              "      <th>0</th>\n",
              "      <td>1.0</td>\n",
              "      <td>0.785714</td>\n",
              "      <td>2.0</td>\n",
              "      <td>1.0</td>\n",
              "      <td>2.0</td>\n",
              "      <td>1.0</td>\n",
              "      <td>2.0</td>\n",
              "      <td>1.0</td>\n",
              "      <td>2.0</td>\n",
              "      <td>3.0</td>\n",
              "      <td>...</td>\n",
              "      <td>7.0</td>\n",
              "      <td>1.0</td>\n",
              "      <td>3.5</td>\n",
              "      <td>5.0</td>\n",
              "      <td>1.0</td>\n",
              "      <td>0.406780</td>\n",
              "      <td>3.0</td>\n",
              "      <td>5.0</td>\n",
              "      <td>4.0</td>\n",
              "      <td>1.0</td>\n",
              "    </tr>\n",
              "    <tr>\n",
              "      <th>1</th>\n",
              "      <td>2.0</td>\n",
              "      <td>0.678571</td>\n",
              "      <td>2.0</td>\n",
              "      <td>1.0</td>\n",
              "      <td>1.5</td>\n",
              "      <td>1.0</td>\n",
              "      <td>2.0</td>\n",
              "      <td>1.0</td>\n",
              "      <td>2.0</td>\n",
              "      <td>3.0</td>\n",
              "      <td>...</td>\n",
              "      <td>7.0</td>\n",
              "      <td>1.0</td>\n",
              "      <td>3.5</td>\n",
              "      <td>1.0</td>\n",
              "      <td>1.0</td>\n",
              "      <td>0.508475</td>\n",
              "      <td>3.0</td>\n",
              "      <td>6.0</td>\n",
              "      <td>3.0</td>\n",
              "      <td>1.0</td>\n",
              "    </tr>\n",
              "    <tr>\n",
              "      <th>2</th>\n",
              "      <td>1.0</td>\n",
              "      <td>0.523810</td>\n",
              "      <td>1.0</td>\n",
              "      <td>1.0</td>\n",
              "      <td>1.0</td>\n",
              "      <td>1.0</td>\n",
              "      <td>1.0</td>\n",
              "      <td>1.0</td>\n",
              "      <td>2.0</td>\n",
              "      <td>3.0</td>\n",
              "      <td>...</td>\n",
              "      <td>2.0</td>\n",
              "      <td>1.0</td>\n",
              "      <td>2.5</td>\n",
              "      <td>3.0</td>\n",
              "      <td>3.0</td>\n",
              "      <td>0.525424</td>\n",
              "      <td>3.0</td>\n",
              "      <td>1.0</td>\n",
              "      <td>5.0</td>\n",
              "      <td>1.0</td>\n",
              "    </tr>\n",
              "  </tbody>\n",
              "</table>\n",
              "<p>3 rows × 27 columns</p>\n",
              "</div>"
            ],
            "text/plain": [
              "   C006      C008  I00102  Q046017  Q046015  Q046018  Q03802  Q02901  Q03002  \\\n",
              "0   1.0  0.785714     2.0      1.0      2.0      1.0     2.0     1.0     2.0   \n",
              "1   2.0  0.678571     2.0      1.0      1.5      1.0     2.0     1.0     2.0   \n",
              "2   1.0  0.523810     1.0      1.0      1.0      1.0     1.0     1.0     2.0   \n",
              "\n",
              "   N001  ...  P023  P027  P035  P05401  P052      P053  P050  P058  VDF004  \\\n",
              "0   3.0  ...   7.0   1.0   3.5     5.0   1.0  0.406780   3.0   5.0     4.0   \n",
              "1   3.0  ...   7.0   1.0   3.5     1.0   1.0  0.508475   3.0   6.0     3.0   \n",
              "2   3.0  ...   2.0   1.0   2.5     3.0   3.0  0.525424   3.0   1.0     5.0   \n",
              "\n",
              "   Q03001  \n",
              "0     1.0  \n",
              "1     1.0  \n",
              "2     1.0  \n",
              "\n",
              "[3 rows x 27 columns]"
            ]
          },
          "execution_count": 23,
          "metadata": {},
          "output_type": "execute_result"
        }
      ],
      "source": [
        "base.head(3)"
      ]
    },
    {
      "cell_type": "code",
      "execution_count": 24,
      "metadata": {
        "colab": {
          "base_uri": "https://localhost:8080/",
          "height": 112
        },
        "id": "0VKCjaDIVTMc",
        "outputId": "0a0c483a-7a56-4ec2-db7c-43d25f6451d5"
      },
      "outputs": [
        {
          "data": {
            "text/html": [
              "<div>\n",
              "<style scoped>\n",
              "    .dataframe tbody tr th:only-of-type {\n",
              "        vertical-align: middle;\n",
              "    }\n",
              "\n",
              "    .dataframe tbody tr th {\n",
              "        vertical-align: top;\n",
              "    }\n",
              "\n",
              "    .dataframe thead th {\n",
              "        text-align: right;\n",
              "    }\n",
              "</style>\n",
              "<table border=\"1\" class=\"dataframe\">\n",
              "  <thead>\n",
              "    <tr style=\"text-align: right;\">\n",
              "      <th></th>\n",
              "      <th>C006</th>\n",
              "      <th>C008</th>\n",
              "      <th>I00102</th>\n",
              "      <th>Q046017</th>\n",
              "      <th>Q046015</th>\n",
              "      <th>Q046018</th>\n",
              "      <th>Q03802</th>\n",
              "      <th>Q02901</th>\n",
              "      <th>Q03002</th>\n",
              "      <th>N001</th>\n",
              "      <th>...</th>\n",
              "      <th>P023</th>\n",
              "      <th>P027</th>\n",
              "      <th>P035</th>\n",
              "      <th>P05401</th>\n",
              "      <th>P052</th>\n",
              "      <th>P053</th>\n",
              "      <th>P050</th>\n",
              "      <th>P058</th>\n",
              "      <th>VDF004</th>\n",
              "      <th>Q03001</th>\n",
              "    </tr>\n",
              "  </thead>\n",
              "  <tbody>\n",
              "    <tr>\n",
              "      <th>12312</th>\n",
              "      <td>1.0</td>\n",
              "      <td>0.654762</td>\n",
              "      <td>2.0</td>\n",
              "      <td>1.0</td>\n",
              "      <td>1.5</td>\n",
              "      <td>1.5</td>\n",
              "      <td>1.5</td>\n",
              "      <td>1.0</td>\n",
              "      <td>2.0</td>\n",
              "      <td>2.0</td>\n",
              "      <td>...</td>\n",
              "      <td>7.0</td>\n",
              "      <td>1.0</td>\n",
              "      <td>4.0</td>\n",
              "      <td>1.0</td>\n",
              "      <td>2.0</td>\n",
              "      <td>0.559322</td>\n",
              "      <td>3.0</td>\n",
              "      <td>1.0</td>\n",
              "      <td>4.0</td>\n",
              "      <td>2.0</td>\n",
              "    </tr>\n",
              "    <tr>\n",
              "      <th>12313</th>\n",
              "      <td>2.0</td>\n",
              "      <td>0.380952</td>\n",
              "      <td>1.0</td>\n",
              "      <td>1.0</td>\n",
              "      <td>1.5</td>\n",
              "      <td>1.5</td>\n",
              "      <td>2.0</td>\n",
              "      <td>3.0</td>\n",
              "      <td>2.0</td>\n",
              "      <td>2.0</td>\n",
              "      <td>...</td>\n",
              "      <td>7.0</td>\n",
              "      <td>1.0</td>\n",
              "      <td>5.0</td>\n",
              "      <td>1.0</td>\n",
              "      <td>3.0</td>\n",
              "      <td>0.610169</td>\n",
              "      <td>3.0</td>\n",
              "      <td>1.0</td>\n",
              "      <td>4.0</td>\n",
              "      <td>2.0</td>\n",
              "    </tr>\n",
              "  </tbody>\n",
              "</table>\n",
              "<p>2 rows × 27 columns</p>\n",
              "</div>"
            ],
            "text/plain": [
              "       C006      C008  I00102  Q046017  Q046015  Q046018  Q03802  Q02901  \\\n",
              "12312   1.0  0.654762     2.0      1.0      1.5      1.5     1.5     1.0   \n",
              "12313   2.0  0.380952     1.0      1.0      1.5      1.5     2.0     3.0   \n",
              "\n",
              "       Q03002  N001  ...  P023  P027  P035  P05401  P052      P053  P050  \\\n",
              "12312     2.0   2.0  ...   7.0   1.0   4.0     1.0   2.0  0.559322   3.0   \n",
              "12313     2.0   2.0  ...   7.0   1.0   5.0     1.0   3.0  0.610169   3.0   \n",
              "\n",
              "       P058  VDF004  Q03001  \n",
              "12312   1.0     4.0     2.0  \n",
              "12313   1.0     4.0     2.0  \n",
              "\n",
              "[2 rows x 27 columns]"
            ]
          },
          "execution_count": 24,
          "metadata": {},
          "output_type": "execute_result"
        }
      ],
      "source": [
        "base.tail(2)"
      ]
    },
    {
      "cell_type": "markdown",
      "metadata": {
        "id": "nnxpN2abg5eN"
      },
      "source": [
        "**Contando quantidade de instâncias**\n"
      ]
    },
    {
      "cell_type": "code",
      "execution_count": 25,
      "metadata": {
        "colab": {
          "base_uri": "https://localhost:8080/"
        },
        "id": "xgR2Os49WO3d",
        "outputId": "0259ff4f-b9cb-4380-c2bd-00f3912f6577"
      },
      "outputs": [],
      "source": [
        "#np.unique(base['Q03001'], return_counts=True)"
      ]
    },
    {
      "cell_type": "code",
      "execution_count": 26,
      "metadata": {
        "colab": {
          "base_uri": "https://localhost:8080/",
          "height": 279
        },
        "id": "n-DOy3oXXG4N",
        "outputId": "b546a15c-5769-4691-e4e6-f9303cc76a76"
      },
      "outputs": [
        {
          "data": {
            "image/png": "[encoded data removed]",
            "text/plain": [
              "<Figure size 640x480 with 1 Axes>"
            ]
          },
          "metadata": {},
          "output_type": "display_data"
        }
      ],
      "source": [
        "sns.countplot(x = base['Q03001']);"
      ]
    },
    {
      "cell_type": "markdown",
      "metadata": {
        "id": "MYJpg6Q8hH8i"
      },
      "source": [
        "**Separando os atributos de entrada e de classe**"
      ]
    },
    {
      "cell_type": "code",
      "execution_count": 27,
      "metadata": {
        "id": "9EPdNWJIXPm2"
      },
      "outputs": [],
      "source": [
        "X_prev = base2.iloc[:, :].values"
      ]
    },
    {
      "cell_type": "code",
      "execution_count": 28,
      "metadata": {
        "colab": {
          "base_uri": "https://localhost:8080/"
        },
        "id": "zYITR2Kv6X1F",
        "outputId": "6ba96642-d2e2-4ac0-ade0-a919477934d6"
      },
      "outputs": [
        {
          "data": {
            "text/plain": [
              "array([[1.        , 0.78571429, 2.        , ..., 3.        , 5.        ,\n",
              "        4.        ],\n",
              "       [2.        , 0.67857143, 2.        , ..., 3.        , 6.        ,\n",
              "        3.        ],\n",
              "       [1.        , 0.52380952, 1.        , ..., 3.        , 1.        ,\n",
              "        5.        ],\n",
              "       ...,\n",
              "       [2.        , 0.75      , 2.        , ..., 3.        , 1.        ,\n",
              "        3.        ],\n",
              "       [1.        , 0.6547619 , 2.        , ..., 3.        , 1.        ,\n",
              "        4.        ],\n",
              "       [2.        , 0.38095238, 1.        , ..., 3.        , 1.        ,\n",
              "        4.        ]])"
            ]
          },
          "execution_count": 28,
          "metadata": {},
          "output_type": "execute_result"
        }
      ],
      "source": [
        "X_prev"
      ]
    },
    {
      "cell_type": "code",
      "execution_count": 29,
      "metadata": {
        "id": "35DXGBG46LQ1"
      },
      "outputs": [],
      "source": [
        "X_prev_label = base2.iloc[:, :]"
      ]
    },
    {
      "cell_type": "code",
      "execution_count": 30,
      "metadata": {
        "colab": {
          "base_uri": "https://localhost:8080/",
          "height": 426
        },
        "id": "IOfUln-yf13F",
        "outputId": "333e08e4-2fde-4511-8e5c-e32338e6a261"
      },
      "outputs": [
        {
          "data": {
            "text/html": [
              "<div>\n",
              "<style scoped>\n",
              "    .dataframe tbody tr th:only-of-type {\n",
              "        vertical-align: middle;\n",
              "    }\n",
              "\n",
              "    .dataframe tbody tr th {\n",
              "        vertical-align: top;\n",
              "    }\n",
              "\n",
              "    .dataframe thead th {\n",
              "        text-align: right;\n",
              "    }\n",
              "</style>\n",
              "<table border=\"1\" class=\"dataframe\">\n",
              "  <thead>\n",
              "    <tr style=\"text-align: right;\">\n",
              "      <th></th>\n",
              "      <th>C006</th>\n",
              "      <th>C008</th>\n",
              "      <th>I00102</th>\n",
              "      <th>Q046017</th>\n",
              "      <th>Q046015</th>\n",
              "      <th>Q046018</th>\n",
              "      <th>Q03802</th>\n",
              "      <th>Q02901</th>\n",
              "      <th>Q03002</th>\n",
              "      <th>N001</th>\n",
              "      <th>...</th>\n",
              "      <th>P018</th>\n",
              "      <th>P023</th>\n",
              "      <th>P027</th>\n",
              "      <th>P035</th>\n",
              "      <th>P05401</th>\n",
              "      <th>P052</th>\n",
              "      <th>P053</th>\n",
              "      <th>P050</th>\n",
              "      <th>P058</th>\n",
              "      <th>VDF004</th>\n",
              "    </tr>\n",
              "  </thead>\n",
              "  <tbody>\n",
              "    <tr>\n",
              "      <th>0</th>\n",
              "      <td>1.0</td>\n",
              "      <td>0.785714</td>\n",
              "      <td>2.0</td>\n",
              "      <td>1.0</td>\n",
              "      <td>2.0</td>\n",
              "      <td>1.0</td>\n",
              "      <td>2.0</td>\n",
              "      <td>1.0</td>\n",
              "      <td>2.0</td>\n",
              "      <td>3.0</td>\n",
              "      <td>...</td>\n",
              "      <td>3.0</td>\n",
              "      <td>7.0</td>\n",
              "      <td>1.0</td>\n",
              "      <td>3.5</td>\n",
              "      <td>5.0</td>\n",
              "      <td>1.0</td>\n",
              "      <td>0.406780</td>\n",
              "      <td>3.0</td>\n",
              "      <td>5.0</td>\n",
              "      <td>4.0</td>\n",
              "    </tr>\n",
              "    <tr>\n",
              "      <th>1</th>\n",
              "      <td>2.0</td>\n",
              "      <td>0.678571</td>\n",
              "      <td>2.0</td>\n",
              "      <td>1.0</td>\n",
              "      <td>1.5</td>\n",
              "      <td>1.0</td>\n",
              "      <td>2.0</td>\n",
              "      <td>1.0</td>\n",
              "      <td>2.0</td>\n",
              "      <td>3.0</td>\n",
              "      <td>...</td>\n",
              "      <td>7.0</td>\n",
              "      <td>7.0</td>\n",
              "      <td>1.0</td>\n",
              "      <td>3.5</td>\n",
              "      <td>1.0</td>\n",
              "      <td>1.0</td>\n",
              "      <td>0.508475</td>\n",
              "      <td>3.0</td>\n",
              "      <td>6.0</td>\n",
              "      <td>3.0</td>\n",
              "    </tr>\n",
              "    <tr>\n",
              "      <th>2</th>\n",
              "      <td>1.0</td>\n",
              "      <td>0.523810</td>\n",
              "      <td>1.0</td>\n",
              "      <td>1.0</td>\n",
              "      <td>1.0</td>\n",
              "      <td>1.0</td>\n",
              "      <td>1.0</td>\n",
              "      <td>1.0</td>\n",
              "      <td>2.0</td>\n",
              "      <td>3.0</td>\n",
              "      <td>...</td>\n",
              "      <td>4.0</td>\n",
              "      <td>2.0</td>\n",
              "      <td>1.0</td>\n",
              "      <td>2.5</td>\n",
              "      <td>3.0</td>\n",
              "      <td>3.0</td>\n",
              "      <td>0.525424</td>\n",
              "      <td>3.0</td>\n",
              "      <td>1.0</td>\n",
              "      <td>5.0</td>\n",
              "    </tr>\n",
              "    <tr>\n",
              "      <th>3</th>\n",
              "      <td>2.0</td>\n",
              "      <td>0.940476</td>\n",
              "      <td>2.0</td>\n",
              "      <td>1.0</td>\n",
              "      <td>1.0</td>\n",
              "      <td>1.0</td>\n",
              "      <td>2.0</td>\n",
              "      <td>3.0</td>\n",
              "      <td>2.0</td>\n",
              "      <td>3.0</td>\n",
              "      <td>...</td>\n",
              "      <td>7.0</td>\n",
              "      <td>7.0</td>\n",
              "      <td>1.0</td>\n",
              "      <td>2.5</td>\n",
              "      <td>5.0</td>\n",
              "      <td>3.0</td>\n",
              "      <td>0.237288</td>\n",
              "      <td>3.0</td>\n",
              "      <td>3.0</td>\n",
              "      <td>4.0</td>\n",
              "    </tr>\n",
              "    <tr>\n",
              "      <th>4</th>\n",
              "      <td>2.0</td>\n",
              "      <td>0.178571</td>\n",
              "      <td>2.0</td>\n",
              "      <td>1.0</td>\n",
              "      <td>1.0</td>\n",
              "      <td>1.0</td>\n",
              "      <td>1.0</td>\n",
              "      <td>2.0</td>\n",
              "      <td>1.0</td>\n",
              "      <td>2.0</td>\n",
              "      <td>...</td>\n",
              "      <td>7.0</td>\n",
              "      <td>7.0</td>\n",
              "      <td>1.0</td>\n",
              "      <td>5.0</td>\n",
              "      <td>2.0</td>\n",
              "      <td>2.0</td>\n",
              "      <td>0.559322</td>\n",
              "      <td>3.0</td>\n",
              "      <td>3.0</td>\n",
              "      <td>4.0</td>\n",
              "    </tr>\n",
              "    <tr>\n",
              "      <th>...</th>\n",
              "      <td>...</td>\n",
              "      <td>...</td>\n",
              "      <td>...</td>\n",
              "      <td>...</td>\n",
              "      <td>...</td>\n",
              "      <td>...</td>\n",
              "      <td>...</td>\n",
              "      <td>...</td>\n",
              "      <td>...</td>\n",
              "      <td>...</td>\n",
              "      <td>...</td>\n",
              "      <td>...</td>\n",
              "      <td>...</td>\n",
              "      <td>...</td>\n",
              "      <td>...</td>\n",
              "      <td>...</td>\n",
              "      <td>...</td>\n",
              "      <td>...</td>\n",
              "      <td>...</td>\n",
              "      <td>...</td>\n",
              "      <td>...</td>\n",
              "    </tr>\n",
              "    <tr>\n",
              "      <th>12309</th>\n",
              "      <td>2.0</td>\n",
              "      <td>0.273810</td>\n",
              "      <td>2.0</td>\n",
              "      <td>1.0</td>\n",
              "      <td>1.5</td>\n",
              "      <td>1.5</td>\n",
              "      <td>2.0</td>\n",
              "      <td>1.0</td>\n",
              "      <td>1.5</td>\n",
              "      <td>2.0</td>\n",
              "      <td>...</td>\n",
              "      <td>7.0</td>\n",
              "      <td>7.0</td>\n",
              "      <td>1.0</td>\n",
              "      <td>5.0</td>\n",
              "      <td>3.0</td>\n",
              "      <td>1.0</td>\n",
              "      <td>0.440678</td>\n",
              "      <td>3.0</td>\n",
              "      <td>1.0</td>\n",
              "      <td>2.0</td>\n",
              "    </tr>\n",
              "    <tr>\n",
              "      <th>12310</th>\n",
              "      <td>1.0</td>\n",
              "      <td>0.916667</td>\n",
              "      <td>2.0</td>\n",
              "      <td>1.0</td>\n",
              "      <td>1.5</td>\n",
              "      <td>1.0</td>\n",
              "      <td>1.5</td>\n",
              "      <td>1.0</td>\n",
              "      <td>2.0</td>\n",
              "      <td>3.0</td>\n",
              "      <td>...</td>\n",
              "      <td>7.0</td>\n",
              "      <td>7.0</td>\n",
              "      <td>1.0</td>\n",
              "      <td>7.0</td>\n",
              "      <td>3.0</td>\n",
              "      <td>1.0</td>\n",
              "      <td>0.576271</td>\n",
              "      <td>3.0</td>\n",
              "      <td>5.0</td>\n",
              "      <td>3.0</td>\n",
              "    </tr>\n",
              "    <tr>\n",
              "      <th>12311</th>\n",
              "      <td>2.0</td>\n",
              "      <td>0.750000</td>\n",
              "      <td>2.0</td>\n",
              "      <td>1.0</td>\n",
              "      <td>1.0</td>\n",
              "      <td>1.0</td>\n",
              "      <td>2.0</td>\n",
              "      <td>2.0</td>\n",
              "      <td>2.0</td>\n",
              "      <td>4.0</td>\n",
              "      <td>...</td>\n",
              "      <td>4.0</td>\n",
              "      <td>0.0</td>\n",
              "      <td>1.0</td>\n",
              "      <td>4.5</td>\n",
              "      <td>3.0</td>\n",
              "      <td>1.0</td>\n",
              "      <td>0.440678</td>\n",
              "      <td>3.0</td>\n",
              "      <td>1.0</td>\n",
              "      <td>3.0</td>\n",
              "    </tr>\n",
              "    <tr>\n",
              "      <th>12312</th>\n",
              "      <td>1.0</td>\n",
              "      <td>0.654762</td>\n",
              "      <td>2.0</td>\n",
              "      <td>1.0</td>\n",
              "      <td>1.5</td>\n",
              "      <td>1.5</td>\n",
              "      <td>1.5</td>\n",
              "      <td>1.0</td>\n",
              "      <td>2.0</td>\n",
              "      <td>2.0</td>\n",
              "      <td>...</td>\n",
              "      <td>7.0</td>\n",
              "      <td>7.0</td>\n",
              "      <td>1.0</td>\n",
              "      <td>4.0</td>\n",
              "      <td>1.0</td>\n",
              "      <td>2.0</td>\n",
              "      <td>0.559322</td>\n",
              "      <td>3.0</td>\n",
              "      <td>1.0</td>\n",
              "      <td>4.0</td>\n",
              "    </tr>\n",
              "    <tr>\n",
              "      <th>12313</th>\n",
              "      <td>2.0</td>\n",
              "      <td>0.380952</td>\n",
              "      <td>1.0</td>\n",
              "      <td>1.0</td>\n",
              "      <td>1.5</td>\n",
              "      <td>1.5</td>\n",
              "      <td>2.0</td>\n",
              "      <td>3.0</td>\n",
              "      <td>2.0</td>\n",
              "      <td>2.0</td>\n",
              "      <td>...</td>\n",
              "      <td>7.0</td>\n",
              "      <td>7.0</td>\n",
              "      <td>1.0</td>\n",
              "      <td>5.0</td>\n",
              "      <td>1.0</td>\n",
              "      <td>3.0</td>\n",
              "      <td>0.610169</td>\n",
              "      <td>3.0</td>\n",
              "      <td>1.0</td>\n",
              "      <td>4.0</td>\n",
              "    </tr>\n",
              "  </tbody>\n",
              "</table>\n",
              "<p>12314 rows × 26 columns</p>\n",
              "</div>"
            ],
            "text/plain": [
              "       C006      C008  I00102  Q046017  Q046015  Q046018  Q03802  Q02901  \\\n",
              "0       1.0  0.785714     2.0      1.0      2.0      1.0     2.0     1.0   \n",
              "1       2.0  0.678571     2.0      1.0      1.5      1.0     2.0     1.0   \n",
              "2       1.0  0.523810     1.0      1.0      1.0      1.0     1.0     1.0   \n",
              "3       2.0  0.940476     2.0      1.0      1.0      1.0     2.0     3.0   \n",
              "4       2.0  0.178571     2.0      1.0      1.0      1.0     1.0     2.0   \n",
              "...     ...       ...     ...      ...      ...      ...     ...     ...   \n",
              "12309   2.0  0.273810     2.0      1.0      1.5      1.5     2.0     1.0   \n",
              "12310   1.0  0.916667     2.0      1.0      1.5      1.0     1.5     1.0   \n",
              "12311   2.0  0.750000     2.0      1.0      1.0      1.0     2.0     2.0   \n",
              "12312   1.0  0.654762     2.0      1.0      1.5      1.5     1.5     1.0   \n",
              "12313   2.0  0.380952     1.0      1.0      1.5      1.5     2.0     3.0   \n",
              "\n",
              "       Q03002  N001  ...  P018  P023  P027  P035  P05401  P052      P053  \\\n",
              "0         2.0   3.0  ...   3.0   7.0   1.0   3.5     5.0   1.0  0.406780   \n",
              "1         2.0   3.0  ...   7.0   7.0   1.0   3.5     1.0   1.0  0.508475   \n",
              "2         2.0   3.0  ...   4.0   2.0   1.0   2.5     3.0   3.0  0.525424   \n",
              "3         2.0   3.0  ...   7.0   7.0   1.0   2.5     5.0   3.0  0.237288   \n",
              "4         1.0   2.0  ...   7.0   7.0   1.0   5.0     2.0   2.0  0.559322   \n",
              "...       ...   ...  ...   ...   ...   ...   ...     ...   ...       ...   \n",
              "12309     1.5   2.0  ...   7.0   7.0   1.0   5.0     3.0   1.0  0.440678   \n",
              "12310     2.0   3.0  ...   7.0   7.0   1.0   7.0     3.0   1.0  0.576271   \n",
              "12311     2.0   4.0  ...   4.0   0.0   1.0   4.5     3.0   1.0  0.440678   \n",
              "12312     2.0   2.0  ...   7.0   7.0   1.0   4.0     1.0   2.0  0.559322   \n",
              "12313     2.0   2.0  ...   7.0   7.0   1.0   5.0     1.0   3.0  0.610169   \n",
              "\n",
              "       P050  P058  VDF004  \n",
              "0       3.0   5.0     4.0  \n",
              "1       3.0   6.0     3.0  \n",
              "2       3.0   1.0     5.0  \n",
              "3       3.0   3.0     4.0  \n",
              "4       3.0   3.0     4.0  \n",
              "...     ...   ...     ...  \n",
              "12309   3.0   1.0     2.0  \n",
              "12310   3.0   5.0     3.0  \n",
              "12311   3.0   1.0     3.0  \n",
              "12312   3.0   1.0     4.0  \n",
              "12313   3.0   1.0     4.0  \n",
              "\n",
              "[12314 rows x 26 columns]"
            ]
          },
          "execution_count": 30,
          "metadata": {},
          "output_type": "execute_result"
        }
      ],
      "source": [
        "X_prev_label"
      ]
    },
    {
      "cell_type": "code",
      "execution_count": 31,
      "metadata": {
        "colab": {
          "base_uri": "https://localhost:8080/"
        },
        "id": "tauFS_600OjB",
        "outputId": "31589063-6c1e-4631-ccac-e1a60192debe"
      },
      "outputs": [
        {
          "data": {
            "text/plain": [
              "array([[1.        , 0.78571429, 2.        , ..., 3.        , 5.        ,\n",
              "        4.        ],\n",
              "       [2.        , 0.67857143, 2.        , ..., 3.        , 6.        ,\n",
              "        3.        ],\n",
              "       [1.        , 0.52380952, 1.        , ..., 3.        , 1.        ,\n",
              "        5.        ],\n",
              "       ...,\n",
              "       [2.        , 0.75      , 2.        , ..., 3.        , 1.        ,\n",
              "        3.        ],\n",
              "       [1.        , 0.6547619 , 2.        , ..., 3.        , 1.        ,\n",
              "        4.        ],\n",
              "       [2.        , 0.38095238, 1.        , ..., 3.        , 1.        ,\n",
              "        4.        ]])"
            ]
          },
          "execution_count": 31,
          "metadata": {},
          "output_type": "execute_result"
        }
      ],
      "source": [
        "X_prev[:,:]\n"
      ]
    },
    {
      "cell_type": "code",
      "execution_count": 32,
      "metadata": {
        "id": "kLLl-H1ygy7y"
      },
      "outputs": [],
      "source": [
        "y_classe = base.iloc[:, 26].values"
      ]
    },
    {
      "cell_type": "code",
      "execution_count": 33,
      "metadata": {
        "colab": {
          "base_uri": "https://localhost:8080/"
        },
        "id": "XFnwVWk2hYzj",
        "outputId": "d7a7d0f3-ee76-47c2-bd13-1920d1e4546b"
      },
      "outputs": [
        {
          "data": {
            "text/plain": [
              "array([1., 1., 1., ..., 2., 2., 2.])"
            ]
          },
          "execution_count": 33,
          "metadata": {},
          "output_type": "execute_result"
        }
      ],
      "source": [
        "y_classe"
      ]
    },
    {
      "cell_type": "markdown",
      "metadata": {
        "id": "A4y4I3XlXRZT"
      },
      "source": [
        "**Podemos fazer esta mesma divisão (separar as variáveis de entrada e saída) usando os comandos abaixo**"
      ]
    },
    {
      "cell_type": "code",
      "execution_count": 34,
      "metadata": {
        "id": "sXkdmFSnXQY0"
      },
      "outputs": [
        {
          "data": {
            "text/plain": [
              "'Q03001'"
            ]
          },
          "execution_count": 34,
          "metadata": {},
          "output_type": "execute_result"
        }
      ],
      "source": [
        "base.columns[26]"
      ]
    },
    {
      "cell_type": "markdown",
      "metadata": {
        "id": "xeaEnJuOij1V"
      },
      "source": [
        "**Tratamento de dados categóricos**"
      ]
    },
    {
      "cell_type": "markdown",
      "metadata": {
        "id": "3lW1I_-TiwUi"
      },
      "source": [
        "> *LabelEncoder - Vamos tratar os dados categóricos colocando 1, 2, 3 e etc**\n",
        "\n"
      ]
    },
    {
      "cell_type": "code",
      "execution_count": 35,
      "metadata": {
        "id": "bJftEzSbiorG"
      },
      "outputs": [],
      "source": [
        "from sklearn.preprocessing import LabelEncoder"
      ]
    },
    {
      "cell_type": "code",
      "execution_count": 37,
      "metadata": {
        "colab": {
          "base_uri": "https://localhost:8080/"
        },
        "id": "OFz5uXgNjZd7",
        "outputId": "8226385e-2d36-48d4-f5a6-ce6d2d339bd8"
      },
      "outputs": [
        {
          "data": {
            "text/plain": [
              "array([1., 2., 1., ..., 2., 1., 2.])"
            ]
          },
          "execution_count": 37,
          "metadata": {},
          "output_type": "execute_result"
        }
      ],
      "source": [
        "X_prev[:,0]"
      ]
    },
    {
      "cell_type": "code",
      "execution_count": 38,
      "metadata": {
        "colab": {
          "base_uri": "https://localhost:8080/"
        },
        "id": "P11D5o6rYG8H",
        "outputId": "74be2c2d-0a5f-4aff-cfee-bbf0ae8e4ac5"
      },
      "outputs": [
        {
          "data": {
            "text/plain": [
              "array([[1.        , 0.78571429, 2.        , ..., 3.        , 5.        ,\n",
              "        4.        ],\n",
              "       [2.        , 0.67857143, 2.        , ..., 3.        , 6.        ,\n",
              "        3.        ],\n",
              "       [1.        , 0.52380952, 1.        , ..., 3.        , 1.        ,\n",
              "        5.        ],\n",
              "       ...,\n",
              "       [2.        , 0.75      , 2.        , ..., 3.        , 1.        ,\n",
              "        3.        ],\n",
              "       [1.        , 0.6547619 , 2.        , ..., 3.        , 1.        ,\n",
              "        4.        ],\n",
              "       [2.        , 0.38095238, 1.        , ..., 3.        , 1.        ,\n",
              "        4.        ]])"
            ]
          },
          "execution_count": 38,
          "metadata": {},
          "output_type": "execute_result"
        }
      ],
      "source": [
        "X_prev"
      ]
    },
    {
      "cell_type": "code",
      "execution_count": 41,
      "metadata": {
        "colab": {
          "base_uri": "https://localhost:8080/"
        },
        "id": "phQP4ayIo7JC",
        "outputId": "045e4b81-2e95-4e40-9c6f-8ab7668a71be"
      },
      "outputs": [
        {
          "data": {
            "text/plain": [
              "array([[1.        , 0.78571429, 2.        , ..., 3.        , 5.        ,\n",
              "        4.        ],\n",
              "       [2.        , 0.67857143, 2.        , ..., 3.        , 6.        ,\n",
              "        3.        ],\n",
              "       [1.        , 0.52380952, 1.        , ..., 3.        , 1.        ,\n",
              "        5.        ],\n",
              "       ...,\n",
              "       [2.        , 0.75      , 2.        , ..., 3.        , 1.        ,\n",
              "        3.        ],\n",
              "       [1.        , 0.6547619 , 2.        , ..., 3.        , 1.        ,\n",
              "        4.        ],\n",
              "       [2.        , 0.38095238, 1.        , ..., 3.        , 1.        ,\n",
              "        4.        ]])"
            ]
          },
          "execution_count": 41,
          "metadata": {},
          "output_type": "execute_result"
        }
      ],
      "source": [
        "X_prev"
      ]
    },
    {
      "cell_type": "markdown",
      "metadata": {
        "id": "CdvWmHBWpNVf"
      },
      "source": [
        "\n",
        "\n",
        "> OneHotEncoder - Agora vamos binarizar atributos não ordinais"
      ]
    },
    {
      "cell_type": "markdown",
      "metadata": {
        "id": "tyfOlRYpuc9b"
      },
      "source": [
        "**Contando quantas opções de resposta tem cada atributo**"
      ]
    },
    {
      "cell_type": "code",
      "execution_count": 43,
      "metadata": {
        "id": "abl6WdNRurkE"
      },
      "outputs": [],
      "source": [
        "from sklearn.preprocessing import OneHotEncoder\n",
        "from sklearn.compose import ColumnTransformer"
      ]
    },
    {
      "cell_type": "code",
      "execution_count": 44,
      "metadata": {
        "colab": {
          "base_uri": "https://localhost:8080/"
        },
        "id": "0motJ0N9yd8W",
        "outputId": "d688214a-5c7e-43c1-bbf8-36a65e90cf37"
      },
      "outputs": [
        {
          "data": {
            "text/plain": [
              "array([[1.        , 0.78571429, 2.        , ..., 3.        , 5.        ,\n",
              "        4.        ],\n",
              "       [2.        , 0.67857143, 2.        , ..., 3.        , 6.        ,\n",
              "        3.        ],\n",
              "       [1.        , 0.52380952, 1.        , ..., 3.        , 1.        ,\n",
              "        5.        ],\n",
              "       ...,\n",
              "       [2.        , 0.75      , 2.        , ..., 3.        , 1.        ,\n",
              "        3.        ],\n",
              "       [1.        , 0.6547619 , 2.        , ..., 3.        , 1.        ,\n",
              "        4.        ],\n",
              "       [2.        , 0.38095238, 1.        , ..., 3.        , 1.        ,\n",
              "        4.        ]])"
            ]
          },
          "execution_count": 44,
          "metadata": {},
          "output_type": "execute_result"
        }
      ],
      "source": [
        "X_prev"
      ]
    },
    {
      "cell_type": "code",
      "execution_count": 45,
      "metadata": {
        "colab": {
          "base_uri": "https://localhost:8080/"
        },
        "id": "4n4ZSB9bRN4j",
        "outputId": "24bf32f7-ae02-4576-a870-4a5fe0a2a36f"
      },
      "outputs": [
        {
          "data": {
            "text/plain": [
              "array([[1.        , 0.78571429, 2.        , ..., 2.        , 1.        ,\n",
              "        2.        ],\n",
              "       [2.        , 0.67857143, 2.        , ..., 2.        , 1.        ,\n",
              "        2.        ],\n",
              "       [1.        , 0.52380952, 1.        , ..., 1.        , 1.        ,\n",
              "        2.        ],\n",
              "       ...,\n",
              "       [2.        , 0.75      , 2.        , ..., 2.        , 2.        ,\n",
              "        2.        ],\n",
              "       [1.        , 0.6547619 , 2.        , ..., 1.5       , 1.        ,\n",
              "        2.        ],\n",
              "       [2.        , 0.38095238, 1.        , ..., 2.        , 3.        ,\n",
              "        2.        ]])"
            ]
          },
          "execution_count": 45,
          "metadata": {},
          "output_type": "execute_result"
        }
      ],
      "source": [
        "X_prev[:,0:9]"
      ]
    },
    {
      "cell_type": "code",
      "execution_count": 49,
      "metadata": {
        "colab": {
          "base_uri": "https://localhost:8080/"
        },
        "id": "6YoPu2Vt8mMY",
        "outputId": "2e043d16-ddb7-4496-8322-0065dc8b68ef"
      },
      "outputs": [
        {
          "data": {
            "text/plain": [
              "(12314, 26)"
            ]
          },
          "execution_count": 49,
          "metadata": {},
          "output_type": "execute_result"
        }
      ],
      "source": [
        "X_prev.shape"
      ]
    },
    {
      "cell_type": "markdown",
      "metadata": {
        "id": "e2DfYD9BZpUV"
      },
      "source": [
        "**Esta mesma transformação OneHotEncoder pode ser feita com o comando abaixo**"
      ]
    },
    {
      "cell_type": "markdown",
      "metadata": {
        "id": "9dxbazZBDX6H"
      },
      "source": [
        "**Método de amostragem Holdout**"
      ]
    },
    {
      "cell_type": "code",
      "execution_count": 51,
      "metadata": {
        "id": "_qGk4N4CK7LQ"
      },
      "outputs": [],
      "source": [
        "from sklearn.model_selection import train_test_split"
      ]
    },
    {
      "cell_type": "code",
      "execution_count": 52,
      "metadata": {
        "colab": {
          "base_uri": "https://localhost:8080/"
        },
        "id": "iSw7DIn3GuYn",
        "outputId": "7600cf84-de35-4f64-a6ed-93996cb6dc51"
      },
      "outputs": [
        {
          "data": {
            "text/plain": [
              "array([[1.        , 0.78571429, 2.        , ..., 3.        , 5.        ,\n",
              "        4.        ],\n",
              "       [2.        , 0.67857143, 2.        , ..., 3.        , 6.        ,\n",
              "        3.        ],\n",
              "       [1.        , 0.52380952, 1.        , ..., 3.        , 1.        ,\n",
              "        5.        ],\n",
              "       ...,\n",
              "       [2.        , 0.75      , 2.        , ..., 3.        , 1.        ,\n",
              "        3.        ],\n",
              "       [1.        , 0.6547619 , 2.        , ..., 3.        , 1.        ,\n",
              "        4.        ],\n",
              "       [2.        , 0.38095238, 1.        , ..., 3.        , 1.        ,\n",
              "        4.        ]])"
            ]
          },
          "execution_count": 52,
          "metadata": {},
          "output_type": "execute_result"
        }
      ],
      "source": [
        "X_prev"
      ]
    },
    {
      "cell_type": "code",
      "execution_count": 53,
      "metadata": {
        "colab": {
          "base_uri": "https://localhost:8080/"
        },
        "id": "y9YbfO5mGyuN",
        "outputId": "1d33ad59-dc7c-4506-f1a8-65d785131903"
      },
      "outputs": [
        {
          "data": {
            "text/plain": [
              "array([1., 1., 1., ..., 2., 2., 2.])"
            ]
          },
          "execution_count": 53,
          "metadata": {},
          "output_type": "execute_result"
        }
      ],
      "source": [
        "y_classe"
      ]
    },
    {
      "cell_type": "code",
      "execution_count": 54,
      "metadata": {
        "colab": {
          "base_uri": "https://localhost:8080/"
        },
        "id": "BBaT0pZRIocD",
        "outputId": "3574ddf9-50cb-4e67-d7b3-3092c468c320"
      },
      "outputs": [
        {
          "data": {
            "text/plain": [
              "(12314,)"
            ]
          },
          "execution_count": 54,
          "metadata": {},
          "output_type": "execute_result"
        }
      ],
      "source": [
        "y_classe.shape"
      ]
    },
    {
      "cell_type": "code",
      "execution_count": 55,
      "metadata": {
        "id": "BQ7sHFHmDz_b"
      },
      "outputs": [],
      "source": [
        "#X_train_ds, X_test_ds, y_train_ds, y_test_ds = train_test_split(X, y, test_size=0.3, random_state=123, shuffle=True, stratify=y)\n",
        "X_treino, X_teste, y_treino, y_teste = train_test_split(X_prev, y_classe, test_size = 0.20, random_state = 0)"
      ]
    },
    {
      "cell_type": "code",
      "execution_count": 56,
      "metadata": {
        "colab": {
          "base_uri": "https://localhost:8080/"
        },
        "id": "nXswVGPeK_HB",
        "outputId": "5f15c73c-2caa-42e9-8821-e9ef8aa2ecaa"
      },
      "outputs": [
        {
          "data": {
            "text/plain": [
              "(9851, 26)"
            ]
          },
          "execution_count": 56,
          "metadata": {},
          "output_type": "execute_result"
        }
      ],
      "source": [
        "X_treino.shape"
      ]
    },
    {
      "cell_type": "code",
      "execution_count": 57,
      "metadata": {
        "colab": {
          "base_uri": "https://localhost:8080/"
        },
        "id": "Qt1gTVyxLAvS",
        "outputId": "2e342a5f-1b31-485e-8202-ae1f1fd7f77a"
      },
      "outputs": [
        {
          "data": {
            "text/plain": [
              "(2463, 26)"
            ]
          },
          "execution_count": 57,
          "metadata": {},
          "output_type": "execute_result"
        }
      ],
      "source": [
        "X_teste.shape"
      ]
    },
    {
      "cell_type": "code",
      "execution_count": 58,
      "metadata": {
        "colab": {
          "base_uri": "https://localhost:8080/"
        },
        "id": "XmMPjC6A21vr",
        "outputId": "b51dccbf-ed1b-4027-9416-cd8f6e77f87c"
      },
      "outputs": [
        {
          "data": {
            "text/plain": [
              "array([[2.        , 0.55952381, 2.        , ..., 3.        , 3.5       ,\n",
              "        3.        ],\n",
              "       [2.        , 0.48809524, 1.        , ..., 3.        , 1.        ,\n",
              "        4.        ],\n",
              "       [2.        , 0.71428571, 2.        , ..., 3.        , 5.        ,\n",
              "        2.        ],\n",
              "       ...,\n",
              "       [1.        , 0.5       , 2.        , ..., 3.        , 1.        ,\n",
              "        4.        ],\n",
              "       [1.        , 0.27380952, 2.        , ..., 3.        , 1.        ,\n",
              "        3.        ],\n",
              "       [2.        , 0.60714286, 2.        , ..., 3.        , 1.        ,\n",
              "        3.        ]])"
            ]
          },
          "execution_count": 58,
          "metadata": {},
          "output_type": "execute_result"
        }
      ],
      "source": [
        "X_teste"
      ]
    },
    {
      "cell_type": "code",
      "execution_count": 59,
      "metadata": {
        "colab": {
          "base_uri": "https://localhost:8080/"
        },
        "id": "Nd8g6k2ALDbU",
        "outputId": "af848e1c-a500-4e29-95ff-8fe2f0f9ad8a"
      },
      "outputs": [
        {
          "data": {
            "text/plain": [
              "array([2., 2., 2., ..., 2., 2., 1.])"
            ]
          },
          "execution_count": 59,
          "metadata": {},
          "output_type": "execute_result"
        }
      ],
      "source": [
        "y_treino"
      ]
    },
    {
      "cell_type": "code",
      "execution_count": 60,
      "metadata": {
        "colab": {
          "base_uri": "https://localhost:8080/"
        },
        "id": "8VliUzP_LH5G",
        "outputId": "39f02eca-72b0-4415-b844-66a79c006689"
      },
      "outputs": [
        {
          "data": {
            "text/plain": [
              "array([2., 1., 1., ..., 1., 2., 1.])"
            ]
          },
          "execution_count": 60,
          "metadata": {},
          "output_type": "execute_result"
        }
      ],
      "source": [
        "y_teste"
      ]
    },
    {
      "cell_type": "code",
      "execution_count": 61,
      "metadata": {
        "id": "zbE73RVVVPbW"
      },
      "outputs": [],
      "source": [
        "import pickle"
      ]
    },
    {
      "cell_type": "code",
      "execution_count": 62,
      "metadata": {
        "id": "v6E--H7lViHH"
      },
      "outputs": [],
      "source": [
        "with open('merge.pkl', mode = 'wb') as f:\n",
        "  pickle.dump([X_treino, X_teste, y_treino, y_teste], f)"
      ]
    }
  ],
  "metadata": {
    "colab": {
      "collapsed_sections": [],
      "provenance": []
    },
    "kernelspec": {
      "display_name": "Python 3",
      "name": "python3"
    },
    "language_info": {
      "codemirror_mode": {
        "name": "ipython",
        "version": 3
      },
      "file_extension": ".py",
      "mimetype": "text/x-python",
      "name": "python",
      "nbconvert_exporter": "python",
      "pygments_lexer": "ipython3",
      "version": "3.10.6"
    }
  },
  "nbformat": 4,
  "nbformat_minor": 0
}
