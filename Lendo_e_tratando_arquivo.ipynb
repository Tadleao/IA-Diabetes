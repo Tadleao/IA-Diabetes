{
  "cells": [
    {
      "cell_type": "markdown",
      "metadata": {
        "id": "WYfovYvpPtHN"
      },
      "source": [
        "**Atualizando a biblioteca para plotagem de gráficos**\n"
      ]
    },
    {
      "cell_type": "code",
      "execution_count": 161,
      "metadata": {
        "id": "hTIKXbn7PfB3"
      },
      "outputs": [],
      "source": [
        "# !pip -q install plotly --upgrade\n",
        "# !pip install -U scikit-learn\n",
        "# !pip install pandas\n",
        "# !pip install seaborn"
      ]
    },
    {
      "cell_type": "markdown",
      "metadata": {
        "id": "vWFW_ECYPktU"
      },
      "source": [
        "**Importando bibliotecas**"
      ]
    },
    {
      "cell_type": "code",
      "execution_count": 162,
      "metadata": {
        "id": "kkOvJnL-P1QQ"
      },
      "outputs": [],
      "source": [
        "import pandas as pd\n",
        "import numpy as np\n",
        "import seaborn as sns\n",
        "import matplotlib.pyplot as plt\n",
        "import plotly.express as px"
      ]
    },
    {
      "cell_type": "markdown",
      "metadata": {
        "id": "A5YB5ubEQfaE"
      },
      "source": [
        "**Abrindo um arquivo CSV do drive**"
      ]
    },
    {
      "cell_type": "code",
      "execution_count": 163,
      "metadata": {
        "colab": {
          "base_uri": "https://localhost:8080/"
        },
        "id": "3rzDkhcBQddF",
        "outputId": "c2c49d6d-886b-481f-c414-e54480de3355"
      },
      "outputs": [],
      "source": [
        "base = pd.read_csv('balanced_under.csv')\n",
        "base2 = base.drop('Q03001', axis=1)\n"
      ]
    },
    {
      "cell_type": "markdown",
      "metadata": {
        "id": "y-g8wDMln18q"
      },
      "source": [
        "**Você também pode carregar seu arquivo e já selecionar as colunas que desejar... investigue esta função**"
      ]
    },
    {
      "cell_type": "code",
      "execution_count": 164,
      "metadata": {
        "id": "i8-ualmHV-VU"
      },
      "outputs": [],
      "source": [
        "#base2 = pd.read_csv('/content/sample_data/restaurante.csv', ';', usecols=['Alternativo', 'Bar'])\n",
        "#base2"
      ]
    },
    {
      "cell_type": "code",
      "execution_count": 165,
      "metadata": {
        "colab": {
          "base_uri": "https://localhost:8080/",
          "height": 426
        },
        "id": "SFVtNXxPUAnR",
        "outputId": "e753a7b0-b42d-4dfd-bb83-6863ff1e6d58"
      },
      "outputs": [
        {
          "data": {
            "text/html": [
              "<div>\n",
              "<style scoped>\n",
              "    .dataframe tbody tr th:only-of-type {\n",
              "        vertical-align: middle;\n",
              "    }\n",
              "\n",
              "    .dataframe tbody tr th {\n",
              "        vertical-align: top;\n",
              "    }\n",
              "\n",
              "    .dataframe thead th {\n",
              "        text-align: right;\n",
              "    }\n",
              "</style>\n",
              "<table border=\"1\" class=\"dataframe\">\n",
              "  <thead>\n",
              "    <tr style=\"text-align: right;\">\n",
              "      <th></th>\n",
              "      <th>C006</th>\n",
              "      <th>C008</th>\n",
              "      <th>I00102</th>\n",
              "      <th>J01101</th>\n",
              "      <th>N001</th>\n",
              "      <th>N00101</th>\n",
              "      <th>N011</th>\n",
              "      <th>P00103</th>\n",
              "      <th>P00404</th>\n",
              "      <th>P00610</th>\n",
              "      <th>...</th>\n",
              "      <th>P05401</th>\n",
              "      <th>P058</th>\n",
              "      <th>Q02901</th>\n",
              "      <th>Q03002</th>\n",
              "      <th>Q03802</th>\n",
              "      <th>Q046015</th>\n",
              "      <th>Q046017</th>\n",
              "      <th>Q046018</th>\n",
              "      <th>VDF004</th>\n",
              "      <th>Q03001</th>\n",
              "    </tr>\n",
              "  </thead>\n",
              "  <tbody>\n",
              "    <tr>\n",
              "      <th>0</th>\n",
              "      <td>1.0</td>\n",
              "      <td>0.785714</td>\n",
              "      <td>2.0</td>\n",
              "      <td>1.0</td>\n",
              "      <td>3.0</td>\n",
              "      <td>3.0</td>\n",
              "      <td>1.0</td>\n",
              "      <td>0.543478</td>\n",
              "      <td>0.523077</td>\n",
              "      <td>2.0</td>\n",
              "      <td>...</td>\n",
              "      <td>5.0</td>\n",
              "      <td>5.0</td>\n",
              "      <td>1.0</td>\n",
              "      <td>2.0</td>\n",
              "      <td>2.0</td>\n",
              "      <td>2.0</td>\n",
              "      <td>1.0</td>\n",
              "      <td>1.0</td>\n",
              "      <td>4.0</td>\n",
              "      <td>1.0</td>\n",
              "    </tr>\n",
              "    <tr>\n",
              "      <th>1</th>\n",
              "      <td>2.0</td>\n",
              "      <td>0.678571</td>\n",
              "      <td>2.0</td>\n",
              "      <td>1.0</td>\n",
              "      <td>3.0</td>\n",
              "      <td>3.0</td>\n",
              "      <td>3.0</td>\n",
              "      <td>0.586957</td>\n",
              "      <td>0.507692</td>\n",
              "      <td>2.0</td>\n",
              "      <td>...</td>\n",
              "      <td>1.0</td>\n",
              "      <td>6.0</td>\n",
              "      <td>1.0</td>\n",
              "      <td>2.0</td>\n",
              "      <td>2.0</td>\n",
              "      <td>1.5</td>\n",
              "      <td>1.0</td>\n",
              "      <td>1.0</td>\n",
              "      <td>3.0</td>\n",
              "      <td>1.0</td>\n",
              "    </tr>\n",
              "    <tr>\n",
              "      <th>2</th>\n",
              "      <td>1.0</td>\n",
              "      <td>0.523810</td>\n",
              "      <td>1.0</td>\n",
              "      <td>1.0</td>\n",
              "      <td>3.0</td>\n",
              "      <td>2.0</td>\n",
              "      <td>2.0</td>\n",
              "      <td>0.663043</td>\n",
              "      <td>0.907692</td>\n",
              "      <td>1.0</td>\n",
              "      <td>...</td>\n",
              "      <td>3.0</td>\n",
              "      <td>1.5</td>\n",
              "      <td>1.0</td>\n",
              "      <td>2.0</td>\n",
              "      <td>1.0</td>\n",
              "      <td>1.0</td>\n",
              "      <td>1.0</td>\n",
              "      <td>1.0</td>\n",
              "      <td>5.0</td>\n",
              "      <td>1.0</td>\n",
              "    </tr>\n",
              "    <tr>\n",
              "      <th>3</th>\n",
              "      <td>2.0</td>\n",
              "      <td>0.940476</td>\n",
              "      <td>2.0</td>\n",
              "      <td>1.0</td>\n",
              "      <td>3.0</td>\n",
              "      <td>2.0</td>\n",
              "      <td>1.0</td>\n",
              "      <td>0.402174</td>\n",
              "      <td>0.261538</td>\n",
              "      <td>1.0</td>\n",
              "      <td>...</td>\n",
              "      <td>5.0</td>\n",
              "      <td>3.0</td>\n",
              "      <td>3.0</td>\n",
              "      <td>2.0</td>\n",
              "      <td>2.0</td>\n",
              "      <td>1.0</td>\n",
              "      <td>1.0</td>\n",
              "      <td>1.0</td>\n",
              "      <td>4.0</td>\n",
              "      <td>1.0</td>\n",
              "    </tr>\n",
              "    <tr>\n",
              "      <th>4</th>\n",
              "      <td>2.0</td>\n",
              "      <td>0.178571</td>\n",
              "      <td>2.0</td>\n",
              "      <td>1.0</td>\n",
              "      <td>2.0</td>\n",
              "      <td>1.0</td>\n",
              "      <td>1.0</td>\n",
              "      <td>0.326087</td>\n",
              "      <td>0.723077</td>\n",
              "      <td>2.0</td>\n",
              "      <td>...</td>\n",
              "      <td>1.5</td>\n",
              "      <td>3.0</td>\n",
              "      <td>2.0</td>\n",
              "      <td>1.0</td>\n",
              "      <td>1.0</td>\n",
              "      <td>1.0</td>\n",
              "      <td>1.0</td>\n",
              "      <td>1.0</td>\n",
              "      <td>4.0</td>\n",
              "      <td>1.0</td>\n",
              "    </tr>\n",
              "    <tr>\n",
              "      <th>...</th>\n",
              "      <td>...</td>\n",
              "      <td>...</td>\n",
              "      <td>...</td>\n",
              "      <td>...</td>\n",
              "      <td>...</td>\n",
              "      <td>...</td>\n",
              "      <td>...</td>\n",
              "      <td>...</td>\n",
              "      <td>...</td>\n",
              "      <td>...</td>\n",
              "      <td>...</td>\n",
              "      <td>...</td>\n",
              "      <td>...</td>\n",
              "      <td>...</td>\n",
              "      <td>...</td>\n",
              "      <td>...</td>\n",
              "      <td>...</td>\n",
              "      <td>...</td>\n",
              "      <td>...</td>\n",
              "      <td>...</td>\n",
              "      <td>...</td>\n",
              "    </tr>\n",
              "    <tr>\n",
              "      <th>12217</th>\n",
              "      <td>1.0</td>\n",
              "      <td>0.630952</td>\n",
              "      <td>2.0</td>\n",
              "      <td>1.0</td>\n",
              "      <td>3.0</td>\n",
              "      <td>3.0</td>\n",
              "      <td>2.0</td>\n",
              "      <td>0.489130</td>\n",
              "      <td>0.569231</td>\n",
              "      <td>1.0</td>\n",
              "      <td>...</td>\n",
              "      <td>1.0</td>\n",
              "      <td>2.0</td>\n",
              "      <td>1.0</td>\n",
              "      <td>1.5</td>\n",
              "      <td>1.5</td>\n",
              "      <td>2.0</td>\n",
              "      <td>1.0</td>\n",
              "      <td>1.5</td>\n",
              "      <td>3.0</td>\n",
              "      <td>2.0</td>\n",
              "    </tr>\n",
              "    <tr>\n",
              "      <th>12218</th>\n",
              "      <td>2.0</td>\n",
              "      <td>0.595238</td>\n",
              "      <td>1.0</td>\n",
              "      <td>1.0</td>\n",
              "      <td>3.0</td>\n",
              "      <td>3.0</td>\n",
              "      <td>1.0</td>\n",
              "      <td>0.532609</td>\n",
              "      <td>0.615385</td>\n",
              "      <td>2.0</td>\n",
              "      <td>...</td>\n",
              "      <td>3.0</td>\n",
              "      <td>5.0</td>\n",
              "      <td>1.0</td>\n",
              "      <td>2.0</td>\n",
              "      <td>2.0</td>\n",
              "      <td>1.5</td>\n",
              "      <td>1.0</td>\n",
              "      <td>1.5</td>\n",
              "      <td>3.0</td>\n",
              "      <td>2.0</td>\n",
              "    </tr>\n",
              "    <tr>\n",
              "      <th>12219</th>\n",
              "      <td>1.0</td>\n",
              "      <td>0.309524</td>\n",
              "      <td>1.0</td>\n",
              "      <td>1.0</td>\n",
              "      <td>2.0</td>\n",
              "      <td>2.0</td>\n",
              "      <td>1.0</td>\n",
              "      <td>0.728261</td>\n",
              "      <td>0.769231</td>\n",
              "      <td>1.0</td>\n",
              "      <td>...</td>\n",
              "      <td>1.0</td>\n",
              "      <td>3.0</td>\n",
              "      <td>1.0</td>\n",
              "      <td>1.5</td>\n",
              "      <td>2.0</td>\n",
              "      <td>1.0</td>\n",
              "      <td>1.0</td>\n",
              "      <td>1.5</td>\n",
              "      <td>4.0</td>\n",
              "      <td>2.0</td>\n",
              "    </tr>\n",
              "    <tr>\n",
              "      <th>12220</th>\n",
              "      <td>2.0</td>\n",
              "      <td>0.321429</td>\n",
              "      <td>1.0</td>\n",
              "      <td>1.0</td>\n",
              "      <td>2.0</td>\n",
              "      <td>2.0</td>\n",
              "      <td>1.0</td>\n",
              "      <td>0.391304</td>\n",
              "      <td>0.569231</td>\n",
              "      <td>1.0</td>\n",
              "      <td>...</td>\n",
              "      <td>3.5</td>\n",
              "      <td>2.5</td>\n",
              "      <td>1.0</td>\n",
              "      <td>2.0</td>\n",
              "      <td>1.5</td>\n",
              "      <td>1.0</td>\n",
              "      <td>1.0</td>\n",
              "      <td>1.0</td>\n",
              "      <td>3.0</td>\n",
              "      <td>2.0</td>\n",
              "    </tr>\n",
              "    <tr>\n",
              "      <th>12221</th>\n",
              "      <td>2.0</td>\n",
              "      <td>0.678571</td>\n",
              "      <td>2.0</td>\n",
              "      <td>1.0</td>\n",
              "      <td>1.0</td>\n",
              "      <td>1.0</td>\n",
              "      <td>1.0</td>\n",
              "      <td>0.369565</td>\n",
              "      <td>0.400000</td>\n",
              "      <td>1.0</td>\n",
              "      <td>...</td>\n",
              "      <td>1.0</td>\n",
              "      <td>3.0</td>\n",
              "      <td>1.0</td>\n",
              "      <td>2.0</td>\n",
              "      <td>2.0</td>\n",
              "      <td>2.0</td>\n",
              "      <td>1.0</td>\n",
              "      <td>1.0</td>\n",
              "      <td>4.0</td>\n",
              "      <td>2.0</td>\n",
              "    </tr>\n",
              "  </tbody>\n",
              "</table>\n",
              "<p>12222 rows × 30 columns</p>\n",
              "</div>"
            ],
            "text/plain": [
              "       C006      C008  I00102  J01101  N001  N00101  N011    P00103    P00404  \\\n",
              "0       1.0  0.785714     2.0     1.0   3.0     3.0   1.0  0.543478  0.523077   \n",
              "1       2.0  0.678571     2.0     1.0   3.0     3.0   3.0  0.586957  0.507692   \n",
              "2       1.0  0.523810     1.0     1.0   3.0     2.0   2.0  0.663043  0.907692   \n",
              "3       2.0  0.940476     2.0     1.0   3.0     2.0   1.0  0.402174  0.261538   \n",
              "4       2.0  0.178571     2.0     1.0   2.0     1.0   1.0  0.326087  0.723077   \n",
              "...     ...       ...     ...     ...   ...     ...   ...       ...       ...   \n",
              "12217   1.0  0.630952     2.0     1.0   3.0     3.0   2.0  0.489130  0.569231   \n",
              "12218   2.0  0.595238     1.0     1.0   3.0     3.0   1.0  0.532609  0.615385   \n",
              "12219   1.0  0.309524     1.0     1.0   2.0     2.0   1.0  0.728261  0.769231   \n",
              "12220   2.0  0.321429     1.0     1.0   2.0     2.0   1.0  0.391304  0.569231   \n",
              "12221   2.0  0.678571     2.0     1.0   1.0     1.0   1.0  0.369565  0.400000   \n",
              "\n",
              "       P00610  ...  P05401  P058  Q02901  Q03002  Q03802  Q046015  Q046017  \\\n",
              "0         2.0  ...     5.0   5.0     1.0     2.0     2.0      2.0      1.0   \n",
              "1         2.0  ...     1.0   6.0     1.0     2.0     2.0      1.5      1.0   \n",
              "2         1.0  ...     3.0   1.5     1.0     2.0     1.0      1.0      1.0   \n",
              "3         1.0  ...     5.0   3.0     3.0     2.0     2.0      1.0      1.0   \n",
              "4         2.0  ...     1.5   3.0     2.0     1.0     1.0      1.0      1.0   \n",
              "...       ...  ...     ...   ...     ...     ...     ...      ...      ...   \n",
              "12217     1.0  ...     1.0   2.0     1.0     1.5     1.5      2.0      1.0   \n",
              "12218     2.0  ...     3.0   5.0     1.0     2.0     2.0      1.5      1.0   \n",
              "12219     1.0  ...     1.0   3.0     1.0     1.5     2.0      1.0      1.0   \n",
              "12220     1.0  ...     3.5   2.5     1.0     2.0     1.5      1.0      1.0   \n",
              "12221     1.0  ...     1.0   3.0     1.0     2.0     2.0      2.0      1.0   \n",
              "\n",
              "       Q046018  VDF004  Q03001  \n",
              "0          1.0     4.0     1.0  \n",
              "1          1.0     3.0     1.0  \n",
              "2          1.0     5.0     1.0  \n",
              "3          1.0     4.0     1.0  \n",
              "4          1.0     4.0     1.0  \n",
              "...        ...     ...     ...  \n",
              "12217      1.5     3.0     2.0  \n",
              "12218      1.5     3.0     2.0  \n",
              "12219      1.5     4.0     2.0  \n",
              "12220      1.0     3.0     2.0  \n",
              "12221      1.0     4.0     2.0  \n",
              "\n",
              "[12222 rows x 30 columns]"
            ]
          },
          "execution_count": 165,
          "metadata": {},
          "output_type": "execute_result"
        }
      ],
      "source": [
        "base\n"
      ]
    },
    {
      "cell_type": "code",
      "execution_count": 166,
      "metadata": {
        "colab": {
          "base_uri": "https://localhost:8080/",
          "height": 143
        },
        "id": "WtFD-X3YVI4B",
        "outputId": "9dd2b8de-dd23-4997-a3bd-06afe458d138"
      },
      "outputs": [
        {
          "data": {
            "text/html": [
              "<div>\n",
              "<style scoped>\n",
              "    .dataframe tbody tr th:only-of-type {\n",
              "        vertical-align: middle;\n",
              "    }\n",
              "\n",
              "    .dataframe tbody tr th {\n",
              "        vertical-align: top;\n",
              "    }\n",
              "\n",
              "    .dataframe thead th {\n",
              "        text-align: right;\n",
              "    }\n",
              "</style>\n",
              "<table border=\"1\" class=\"dataframe\">\n",
              "  <thead>\n",
              "    <tr style=\"text-align: right;\">\n",
              "      <th></th>\n",
              "      <th>C006</th>\n",
              "      <th>C008</th>\n",
              "      <th>I00102</th>\n",
              "      <th>J01101</th>\n",
              "      <th>N001</th>\n",
              "      <th>N00101</th>\n",
              "      <th>N011</th>\n",
              "      <th>P00103</th>\n",
              "      <th>P00404</th>\n",
              "      <th>P00610</th>\n",
              "      <th>...</th>\n",
              "      <th>P05401</th>\n",
              "      <th>P058</th>\n",
              "      <th>Q02901</th>\n",
              "      <th>Q03002</th>\n",
              "      <th>Q03802</th>\n",
              "      <th>Q046015</th>\n",
              "      <th>Q046017</th>\n",
              "      <th>Q046018</th>\n",
              "      <th>VDF004</th>\n",
              "      <th>Q03001</th>\n",
              "    </tr>\n",
              "  </thead>\n",
              "  <tbody>\n",
              "    <tr>\n",
              "      <th>0</th>\n",
              "      <td>1.0</td>\n",
              "      <td>0.785714</td>\n",
              "      <td>2.0</td>\n",
              "      <td>1.0</td>\n",
              "      <td>3.0</td>\n",
              "      <td>3.0</td>\n",
              "      <td>1.0</td>\n",
              "      <td>0.543478</td>\n",
              "      <td>0.523077</td>\n",
              "      <td>2.0</td>\n",
              "      <td>...</td>\n",
              "      <td>5.0</td>\n",
              "      <td>5.0</td>\n",
              "      <td>1.0</td>\n",
              "      <td>2.0</td>\n",
              "      <td>2.0</td>\n",
              "      <td>2.0</td>\n",
              "      <td>1.0</td>\n",
              "      <td>1.0</td>\n",
              "      <td>4.0</td>\n",
              "      <td>1.0</td>\n",
              "    </tr>\n",
              "    <tr>\n",
              "      <th>1</th>\n",
              "      <td>2.0</td>\n",
              "      <td>0.678571</td>\n",
              "      <td>2.0</td>\n",
              "      <td>1.0</td>\n",
              "      <td>3.0</td>\n",
              "      <td>3.0</td>\n",
              "      <td>3.0</td>\n",
              "      <td>0.586957</td>\n",
              "      <td>0.507692</td>\n",
              "      <td>2.0</td>\n",
              "      <td>...</td>\n",
              "      <td>1.0</td>\n",
              "      <td>6.0</td>\n",
              "      <td>1.0</td>\n",
              "      <td>2.0</td>\n",
              "      <td>2.0</td>\n",
              "      <td>1.5</td>\n",
              "      <td>1.0</td>\n",
              "      <td>1.0</td>\n",
              "      <td>3.0</td>\n",
              "      <td>1.0</td>\n",
              "    </tr>\n",
              "    <tr>\n",
              "      <th>2</th>\n",
              "      <td>1.0</td>\n",
              "      <td>0.523810</td>\n",
              "      <td>1.0</td>\n",
              "      <td>1.0</td>\n",
              "      <td>3.0</td>\n",
              "      <td>2.0</td>\n",
              "      <td>2.0</td>\n",
              "      <td>0.663043</td>\n",
              "      <td>0.907692</td>\n",
              "      <td>1.0</td>\n",
              "      <td>...</td>\n",
              "      <td>3.0</td>\n",
              "      <td>1.5</td>\n",
              "      <td>1.0</td>\n",
              "      <td>2.0</td>\n",
              "      <td>1.0</td>\n",
              "      <td>1.0</td>\n",
              "      <td>1.0</td>\n",
              "      <td>1.0</td>\n",
              "      <td>5.0</td>\n",
              "      <td>1.0</td>\n",
              "    </tr>\n",
              "  </tbody>\n",
              "</table>\n",
              "<p>3 rows × 30 columns</p>\n",
              "</div>"
            ],
            "text/plain": [
              "   C006      C008  I00102  J01101  N001  N00101  N011    P00103    P00404  \\\n",
              "0   1.0  0.785714     2.0     1.0   3.0     3.0   1.0  0.543478  0.523077   \n",
              "1   2.0  0.678571     2.0     1.0   3.0     3.0   3.0  0.586957  0.507692   \n",
              "2   1.0  0.523810     1.0     1.0   3.0     2.0   2.0  0.663043  0.907692   \n",
              "\n",
              "   P00610  ...  P05401  P058  Q02901  Q03002  Q03802  Q046015  Q046017  \\\n",
              "0     2.0  ...     5.0   5.0     1.0     2.0     2.0      2.0      1.0   \n",
              "1     2.0  ...     1.0   6.0     1.0     2.0     2.0      1.5      1.0   \n",
              "2     1.0  ...     3.0   1.5     1.0     2.0     1.0      1.0      1.0   \n",
              "\n",
              "   Q046018  VDF004  Q03001  \n",
              "0      1.0     4.0     1.0  \n",
              "1      1.0     3.0     1.0  \n",
              "2      1.0     5.0     1.0  \n",
              "\n",
              "[3 rows x 30 columns]"
            ]
          },
          "execution_count": 166,
          "metadata": {},
          "output_type": "execute_result"
        }
      ],
      "source": [
        "base.head(3)"
      ]
    },
    {
      "cell_type": "code",
      "execution_count": 167,
      "metadata": {
        "colab": {
          "base_uri": "https://localhost:8080/",
          "height": 112
        },
        "id": "0VKCjaDIVTMc",
        "outputId": "0a0c483a-7a56-4ec2-db7c-43d25f6451d5"
      },
      "outputs": [
        {
          "data": {
            "text/html": [
              "<div>\n",
              "<style scoped>\n",
              "    .dataframe tbody tr th:only-of-type {\n",
              "        vertical-align: middle;\n",
              "    }\n",
              "\n",
              "    .dataframe tbody tr th {\n",
              "        vertical-align: top;\n",
              "    }\n",
              "\n",
              "    .dataframe thead th {\n",
              "        text-align: right;\n",
              "    }\n",
              "</style>\n",
              "<table border=\"1\" class=\"dataframe\">\n",
              "  <thead>\n",
              "    <tr style=\"text-align: right;\">\n",
              "      <th></th>\n",
              "      <th>C006</th>\n",
              "      <th>C008</th>\n",
              "      <th>I00102</th>\n",
              "      <th>J01101</th>\n",
              "      <th>N001</th>\n",
              "      <th>N00101</th>\n",
              "      <th>N011</th>\n",
              "      <th>P00103</th>\n",
              "      <th>P00404</th>\n",
              "      <th>P00610</th>\n",
              "      <th>...</th>\n",
              "      <th>P05401</th>\n",
              "      <th>P058</th>\n",
              "      <th>Q02901</th>\n",
              "      <th>Q03002</th>\n",
              "      <th>Q03802</th>\n",
              "      <th>Q046015</th>\n",
              "      <th>Q046017</th>\n",
              "      <th>Q046018</th>\n",
              "      <th>VDF004</th>\n",
              "      <th>Q03001</th>\n",
              "    </tr>\n",
              "  </thead>\n",
              "  <tbody>\n",
              "    <tr>\n",
              "      <th>12220</th>\n",
              "      <td>2.0</td>\n",
              "      <td>0.321429</td>\n",
              "      <td>1.0</td>\n",
              "      <td>1.0</td>\n",
              "      <td>2.0</td>\n",
              "      <td>2.0</td>\n",
              "      <td>1.0</td>\n",
              "      <td>0.391304</td>\n",
              "      <td>0.569231</td>\n",
              "      <td>1.0</td>\n",
              "      <td>...</td>\n",
              "      <td>3.5</td>\n",
              "      <td>2.5</td>\n",
              "      <td>1.0</td>\n",
              "      <td>2.0</td>\n",
              "      <td>1.5</td>\n",
              "      <td>1.0</td>\n",
              "      <td>1.0</td>\n",
              "      <td>1.0</td>\n",
              "      <td>3.0</td>\n",
              "      <td>2.0</td>\n",
              "    </tr>\n",
              "    <tr>\n",
              "      <th>12221</th>\n",
              "      <td>2.0</td>\n",
              "      <td>0.678571</td>\n",
              "      <td>2.0</td>\n",
              "      <td>1.0</td>\n",
              "      <td>1.0</td>\n",
              "      <td>1.0</td>\n",
              "      <td>1.0</td>\n",
              "      <td>0.369565</td>\n",
              "      <td>0.400000</td>\n",
              "      <td>1.0</td>\n",
              "      <td>...</td>\n",
              "      <td>1.0</td>\n",
              "      <td>3.0</td>\n",
              "      <td>1.0</td>\n",
              "      <td>2.0</td>\n",
              "      <td>2.0</td>\n",
              "      <td>2.0</td>\n",
              "      <td>1.0</td>\n",
              "      <td>1.0</td>\n",
              "      <td>4.0</td>\n",
              "      <td>2.0</td>\n",
              "    </tr>\n",
              "  </tbody>\n",
              "</table>\n",
              "<p>2 rows × 30 columns</p>\n",
              "</div>"
            ],
            "text/plain": [
              "       C006      C008  I00102  J01101  N001  N00101  N011    P00103    P00404  \\\n",
              "12220   2.0  0.321429     1.0     1.0   2.0     2.0   1.0  0.391304  0.569231   \n",
              "12221   2.0  0.678571     2.0     1.0   1.0     1.0   1.0  0.369565  0.400000   \n",
              "\n",
              "       P00610  ...  P05401  P058  Q02901  Q03002  Q03802  Q046015  Q046017  \\\n",
              "12220     1.0  ...     3.5   2.5     1.0     2.0     1.5      1.0      1.0   \n",
              "12221     1.0  ...     1.0   3.0     1.0     2.0     2.0      2.0      1.0   \n",
              "\n",
              "       Q046018  VDF004  Q03001  \n",
              "12220      1.0     3.0     2.0  \n",
              "12221      1.0     4.0     2.0  \n",
              "\n",
              "[2 rows x 30 columns]"
            ]
          },
          "execution_count": 167,
          "metadata": {},
          "output_type": "execute_result"
        }
      ],
      "source": [
        "base.tail(2)"
      ]
    },
    {
      "cell_type": "markdown",
      "metadata": {
        "id": "nnxpN2abg5eN"
      },
      "source": [
        "**Contando quantidade de instâncias**\n"
      ]
    },
    {
      "cell_type": "code",
      "execution_count": 168,
      "metadata": {
        "colab": {
          "base_uri": "https://localhost:8080/"
        },
        "id": "xgR2Os49WO3d",
        "outputId": "0259ff4f-b9cb-4380-c2bd-00f3912f6577"
      },
      "outputs": [],
      "source": [
        "#np.unique(base['Q03001'], return_counts=True)"
      ]
    },
    {
      "cell_type": "code",
      "execution_count": 169,
      "metadata": {
        "colab": {
          "base_uri": "https://localhost:8080/",
          "height": 279
        },
        "id": "n-DOy3oXXG4N",
        "outputId": "b546a15c-5769-4691-e4e6-f9303cc76a76"
      },
      "outputs": [
        {
          "data": {
            "image/png": "[encoded data removed]",
            "text/plain": [
              "<Figure size 640x480 with 1 Axes>"
            ]
          },
          "metadata": {},
          "output_type": "display_data"
        }
      ],
      "source": [
        "sns.countplot(x = base['Q03001']);"
      ]
    },
    {
      "cell_type": "markdown",
      "metadata": {
        "id": "MYJpg6Q8hH8i"
      },
      "source": [
        "**Separando os atributos de entrada e de classe**"
      ]
    },
    {
      "cell_type": "code",
      "execution_count": 170,
      "metadata": {
        "id": "9EPdNWJIXPm2"
      },
      "outputs": [],
      "source": [
        "X_prev = base2.iloc[:, :].values"
      ]
    },
    {
      "cell_type": "code",
      "execution_count": 171,
      "metadata": {
        "colab": {
          "base_uri": "https://localhost:8080/"
        },
        "id": "zYITR2Kv6X1F",
        "outputId": "6ba96642-d2e2-4ac0-ade0-a919477934d6"
      },
      "outputs": [
        {
          "data": {
            "text/plain": [
              "array([[1.        , 0.78571429, 2.        , ..., 1.        , 1.        ,\n",
              "        4.        ],\n",
              "       [2.        , 0.67857143, 2.        , ..., 1.        , 1.        ,\n",
              "        3.        ],\n",
              "       [1.        , 0.52380952, 1.        , ..., 1.        , 1.        ,\n",
              "        5.        ],\n",
              "       ...,\n",
              "       [1.        , 0.30952381, 1.        , ..., 1.        , 1.5       ,\n",
              "        4.        ],\n",
              "       [2.        , 0.32142857, 1.        , ..., 1.        , 1.        ,\n",
              "        3.        ],\n",
              "       [2.        , 0.67857143, 2.        , ..., 1.        , 1.        ,\n",
              "        4.        ]])"
            ]
          },
          "execution_count": 171,
          "metadata": {},
          "output_type": "execute_result"
        }
      ],
      "source": [
        "X_prev"
      ]
    },
    {
      "cell_type": "code",
      "execution_count": 172,
      "metadata": {
        "id": "35DXGBG46LQ1"
      },
      "outputs": [],
      "source": [
        "X_prev_label = base2.iloc[:, :]"
      ]
    },
    {
      "cell_type": "code",
      "execution_count": 206,
      "metadata": {
        "colab": {
          "base_uri": "https://localhost:8080/",
          "height": 426
        },
        "id": "IOfUln-yf13F",
        "outputId": "333e08e4-2fde-4511-8e5c-e32338e6a261"
      },
      "outputs": [
        {
          "data": {
            "text/plain": [
              "Index(['C006', 'C008', 'I00102', 'J01101', 'N001', 'N00101', 'N011', 'P00103',\n",
              "       'P00404', 'P00610', 'P00611', 'P018', 'P02002', 'P023', 'P02401',\n",
              "       'P027', 'P035', 'P050', 'P052', 'P053', 'P05401', 'P058', 'Q02901',\n",
              "       'Q03002', 'Q03802', 'Q046015', 'Q046017', 'Q046018', 'VDF004'],\n",
              "      dtype='object')"
            ]
          },
          "execution_count": 206,
          "metadata": {},
          "output_type": "execute_result"
        }
      ],
      "source": [
        "X_prev_label"
      ]
    },
    {
      "cell_type": "code",
      "execution_count": 174,
      "metadata": {
        "colab": {
          "base_uri": "https://localhost:8080/"
        },
        "id": "tauFS_600OjB",
        "outputId": "31589063-6c1e-4631-ccac-e1a60192debe"
      },
      "outputs": [
        {
          "data": {
            "text/plain": [
              "array([[1.        , 0.78571429, 2.        , ..., 1.        , 1.        ,\n",
              "        4.        ],\n",
              "       [2.        , 0.67857143, 2.        , ..., 1.        , 1.        ,\n",
              "        3.        ],\n",
              "       [1.        , 0.52380952, 1.        , ..., 1.        , 1.        ,\n",
              "        5.        ],\n",
              "       ...,\n",
              "       [1.        , 0.30952381, 1.        , ..., 1.        , 1.5       ,\n",
              "        4.        ],\n",
              "       [2.        , 0.32142857, 1.        , ..., 1.        , 1.        ,\n",
              "        3.        ],\n",
              "       [2.        , 0.67857143, 2.        , ..., 1.        , 1.        ,\n",
              "        4.        ]])"
            ]
          },
          "execution_count": 174,
          "metadata": {},
          "output_type": "execute_result"
        }
      ],
      "source": [
        "X_prev[:,:]\n"
      ]
    },
    {
      "cell_type": "code",
      "execution_count": 175,
      "metadata": {
        "id": "kLLl-H1ygy7y"
      },
      "outputs": [],
      "source": [
        "y_classe = base.iloc[:, 29].values"
      ]
    },
    {
      "cell_type": "code",
      "execution_count": 176,
      "metadata": {
        "colab": {
          "base_uri": "https://localhost:8080/"
        },
        "id": "XFnwVWk2hYzj",
        "outputId": "d7a7d0f3-ee76-47c2-bd13-1920d1e4546b"
      },
      "outputs": [
        {
          "data": {
            "text/plain": [
              "array([1., 1., 1., ..., 2., 2., 2.])"
            ]
          },
          "execution_count": 176,
          "metadata": {},
          "output_type": "execute_result"
        }
      ],
      "source": [
        "y_classe"
      ]
    },
    {
      "cell_type": "markdown",
      "metadata": {
        "id": "A4y4I3XlXRZT"
      },
      "source": [
        "**Podemos fazer esta mesma divisão (separar as variáveis de entrada e saída) usando os comandos abaixo**"
      ]
    },
    {
      "cell_type": "code",
      "execution_count": 177,
      "metadata": {
        "id": "sXkdmFSnXQY0"
      },
      "outputs": [
        {
          "data": {
            "text/plain": [
              "'Q03001'"
            ]
          },
          "execution_count": 177,
          "metadata": {},
          "output_type": "execute_result"
        }
      ],
      "source": [
        "#X = base.copy() \n",
        "#y = X.pop('Conclusao')\n",
        "base.columns[29]"
      ]
    },
    {
      "cell_type": "markdown",
      "metadata": {
        "id": "xeaEnJuOij1V"
      },
      "source": [
        "**Tratamento de dados categóricos**"
      ]
    },
    {
      "cell_type": "markdown",
      "metadata": {
        "id": "3lW1I_-TiwUi"
      },
      "source": [
        "> *LabelEncoder - Vamos tratar os dados categóricos colocando 1, 2, 3 e etc**\n",
        "\n"
      ]
    },
    {
      "cell_type": "code",
      "execution_count": 178,
      "metadata": {
        "id": "bJftEzSbiorG"
      },
      "outputs": [],
      "source": [
        "from sklearn.preprocessing import LabelEncoder"
      ]
    },
    {
      "cell_type": "code",
      "execution_count": 179,
      "metadata": {
        "id": "zQDx5oLrjMCZ"
      },
      "outputs": [],
      "source": [
        "label_encoder = LabelEncoder()"
      ]
    },
    {
      "cell_type": "code",
      "execution_count": 180,
      "metadata": {
        "colab": {
          "base_uri": "https://localhost:8080/"
        },
        "id": "OFz5uXgNjZd7",
        "outputId": "8226385e-2d36-48d4-f5a6-ce6d2d339bd8"
      },
      "outputs": [
        {
          "data": {
            "text/plain": [
              "array([1., 2., 1., ..., 1., 2., 2.])"
            ]
          },
          "execution_count": 180,
          "metadata": {},
          "output_type": "execute_result"
        }
      ],
      "source": [
        "X_prev[:,0]"
      ]
    },
    {
      "cell_type": "code",
      "execution_count": 181,
      "metadata": {
        "colab": {
          "base_uri": "https://localhost:8080/"
        },
        "id": "P11D5o6rYG8H",
        "outputId": "74be2c2d-0a5f-4aff-cfee-bbf0ae8e4ac5"
      },
      "outputs": [
        {
          "data": {
            "text/plain": [
              "array([[1.        , 0.78571429, 2.        , ..., 1.        , 1.        ,\n",
              "        4.        ],\n",
              "       [2.        , 0.67857143, 2.        , ..., 1.        , 1.        ,\n",
              "        3.        ],\n",
              "       [1.        , 0.52380952, 1.        , ..., 1.        , 1.        ,\n",
              "        5.        ],\n",
              "       ...,\n",
              "       [1.        , 0.30952381, 1.        , ..., 1.        , 1.5       ,\n",
              "        4.        ],\n",
              "       [2.        , 0.32142857, 1.        , ..., 1.        , 1.        ,\n",
              "        3.        ],\n",
              "       [2.        , 0.67857143, 2.        , ..., 1.        , 1.        ,\n",
              "        4.        ]])"
            ]
          },
          "execution_count": 181,
          "metadata": {},
          "output_type": "execute_result"
        }
      ],
      "source": [
        "X_prev"
      ]
    },
    {
      "cell_type": "code",
      "execution_count": 182,
      "metadata": {
        "id": "hEgGLwa_nDmk"
      },
      "outputs": [],
      "source": [
        "\n",
        "#label_encoder_first_column = LabelEncoder()"
      ]
    },
    {
      "cell_type": "code",
      "execution_count": 183,
      "metadata": {
        "id": "CPHvoFGynldw"
      },
      "outputs": [],
      "source": [
        "\n",
        "#X_prev[:,0] = label_encoder_first_column.fit_transform(X_prev[:,0])\n"
      ]
    },
    {
      "cell_type": "code",
      "execution_count": 184,
      "metadata": {
        "colab": {
          "base_uri": "https://localhost:8080/"
        },
        "id": "phQP4ayIo7JC",
        "outputId": "045e4b81-2e95-4e40-9c6f-8ab7668a71be"
      },
      "outputs": [
        {
          "data": {
            "text/plain": [
              "array([[1.        , 0.78571429, 2.        , ..., 1.        , 1.        ,\n",
              "        4.        ],\n",
              "       [2.        , 0.67857143, 2.        , ..., 1.        , 1.        ,\n",
              "        3.        ],\n",
              "       [1.        , 0.52380952, 1.        , ..., 1.        , 1.        ,\n",
              "        5.        ],\n",
              "       ...,\n",
              "       [1.        , 0.30952381, 1.        , ..., 1.        , 1.5       ,\n",
              "        4.        ],\n",
              "       [2.        , 0.32142857, 1.        , ..., 1.        , 1.        ,\n",
              "        3.        ],\n",
              "       [2.        , 0.67857143, 2.        , ..., 1.        , 1.        ,\n",
              "        4.        ]])"
            ]
          },
          "execution_count": 184,
          "metadata": {},
          "output_type": "execute_result"
        }
      ],
      "source": [
        "X_prev"
      ]
    },
    {
      "cell_type": "markdown",
      "metadata": {
        "id": "CdvWmHBWpNVf"
      },
      "source": [
        "\n",
        "\n",
        "> OneHotEncoder - Agora vamos binarizar atributos não ordinais"
      ]
    },
    {
      "cell_type": "markdown",
      "metadata": {
        "id": "tyfOlRYpuc9b"
      },
      "source": [
        "**Contando quantas opções de resposta tem cada atributo**"
      ]
    },
    {
      "cell_type": "code",
      "execution_count": 185,
      "metadata": {
        "colab": {
          "base_uri": "https://localhost:8080/"
        },
        "id": "aJkbkyXquPr1",
        "outputId": "dc040157-aaa4-4a66-b88e-cfe213159543"
      },
      "outputs": [],
      "source": [
        "#len(np.unique(base['Cliente'])) "
      ]
    },
    {
      "cell_type": "code",
      "execution_count": 186,
      "metadata": {
        "id": "abl6WdNRurkE"
      },
      "outputs": [],
      "source": [
        "from sklearn.preprocessing import OneHotEncoder\n",
        "from sklearn.compose import ColumnTransformer"
      ]
    },
    {
      "cell_type": "code",
      "execution_count": 187,
      "metadata": {
        "colab": {
          "base_uri": "https://localhost:8080/"
        },
        "id": "0motJ0N9yd8W",
        "outputId": "d688214a-5c7e-43c1-bbf8-36a65e90cf37"
      },
      "outputs": [
        {
          "data": {
            "text/plain": [
              "array([[1.        , 0.78571429, 2.        , ..., 1.        , 1.        ,\n",
              "        4.        ],\n",
              "       [2.        , 0.67857143, 2.        , ..., 1.        , 1.        ,\n",
              "        3.        ],\n",
              "       [1.        , 0.52380952, 1.        , ..., 1.        , 1.        ,\n",
              "        5.        ],\n",
              "       ...,\n",
              "       [1.        , 0.30952381, 1.        , ..., 1.        , 1.5       ,\n",
              "        4.        ],\n",
              "       [2.        , 0.32142857, 1.        , ..., 1.        , 1.        ,\n",
              "        3.        ],\n",
              "       [2.        , 0.67857143, 2.        , ..., 1.        , 1.        ,\n",
              "        4.        ]])"
            ]
          },
          "execution_count": 187,
          "metadata": {},
          "output_type": "execute_result"
        }
      ],
      "source": [
        "X_prev"
      ]
    },
    {
      "cell_type": "code",
      "execution_count": 188,
      "metadata": {
        "colab": {
          "base_uri": "https://localhost:8080/"
        },
        "id": "4n4ZSB9bRN4j",
        "outputId": "24bf32f7-ae02-4576-a870-4a5fe0a2a36f"
      },
      "outputs": [
        {
          "data": {
            "text/plain": [
              "array([[1.        , 0.78571429, 2.        , ..., 1.        , 0.54347826,\n",
              "        0.52307692],\n",
              "       [2.        , 0.67857143, 2.        , ..., 3.        , 0.58695652,\n",
              "        0.50769231],\n",
              "       [1.        , 0.52380952, 1.        , ..., 2.        , 0.66304348,\n",
              "        0.90769231],\n",
              "       ...,\n",
              "       [1.        , 0.30952381, 1.        , ..., 1.        , 0.72826087,\n",
              "        0.76923077],\n",
              "       [2.        , 0.32142857, 1.        , ..., 1.        , 0.39130435,\n",
              "        0.56923077],\n",
              "       [2.        , 0.67857143, 2.        , ..., 1.        , 0.36956522,\n",
              "        0.4       ]])"
            ]
          },
          "execution_count": 188,
          "metadata": {},
          "output_type": "execute_result"
        }
      ],
      "source": [
        "X_prev[:,0:9]"
      ]
    },
    {
      "cell_type": "code",
      "execution_count": 189,
      "metadata": {
        "id": "PKsgBg8CvVjt"
      },
      "outputs": [],
      "source": [
        "#onehotencoder_restaurante = ColumnTransformer(transformers=[('OneHot', OneHotEncoder(), [4,5,8,9])], remainder='passthrough')\n"
      ]
    },
    {
      "cell_type": "code",
      "execution_count": 190,
      "metadata": {
        "id": "XxJI5AEAvo0u"
      },
      "outputs": [],
      "source": [
        "#X_prev= onehotencoder_restaurante.fit_transform(X_prev)"
      ]
    },
    {
      "cell_type": "code",
      "execution_count": 191,
      "metadata": {
        "colab": {
          "base_uri": "https://localhost:8080/"
        },
        "id": "PpzcL-nixDQy",
        "outputId": "d7dde9ed-d537-4fab-f5c0-7a8459d2d251"
      },
      "outputs": [],
      "source": [
        "#X_prev"
      ]
    },
    {
      "cell_type": "code",
      "execution_count": 192,
      "metadata": {
        "colab": {
          "base_uri": "https://localhost:8080/"
        },
        "id": "6YoPu2Vt8mMY",
        "outputId": "2e043d16-ddb7-4496-8322-0065dc8b68ef"
      },
      "outputs": [
        {
          "data": {
            "text/plain": [
              "(12222, 29)"
            ]
          },
          "execution_count": 192,
          "metadata": {},
          "output_type": "execute_result"
        }
      ],
      "source": [
        "X_prev.shape"
      ]
    },
    {
      "cell_type": "markdown",
      "metadata": {
        "id": "e2DfYD9BZpUV"
      },
      "source": [
        "**Esta mesma transformação OneHotEncoder pode ser feita com o comando abaixo**"
      ]
    },
    {
      "cell_type": "code",
      "execution_count": 193,
      "metadata": {
        "id": "BihvMTn8ZoHp"
      },
      "outputs": [],
      "source": [
        "#base = pd.get_dummies(X_prev_label)\n",
        "#base.head()"
      ]
    },
    {
      "cell_type": "markdown",
      "metadata": {
        "id": "9dxbazZBDX6H"
      },
      "source": [
        "**Método de amostragem Holdout**"
      ]
    },
    {
      "cell_type": "code",
      "execution_count": 194,
      "metadata": {
        "id": "_qGk4N4CK7LQ"
      },
      "outputs": [],
      "source": [
        "from sklearn.model_selection import train_test_split"
      ]
    },
    {
      "cell_type": "code",
      "execution_count": 195,
      "metadata": {
        "colab": {
          "base_uri": "https://localhost:8080/"
        },
        "id": "iSw7DIn3GuYn",
        "outputId": "7600cf84-de35-4f64-a6ed-93996cb6dc51"
      },
      "outputs": [
        {
          "data": {
            "text/plain": [
              "array([[1.        , 0.78571429, 2.        , ..., 1.        , 1.        ,\n",
              "        4.        ],\n",
              "       [2.        , 0.67857143, 2.        , ..., 1.        , 1.        ,\n",
              "        3.        ],\n",
              "       [1.        , 0.52380952, 1.        , ..., 1.        , 1.        ,\n",
              "        5.        ],\n",
              "       ...,\n",
              "       [1.        , 0.30952381, 1.        , ..., 1.        , 1.5       ,\n",
              "        4.        ],\n",
              "       [2.        , 0.32142857, 1.        , ..., 1.        , 1.        ,\n",
              "        3.        ],\n",
              "       [2.        , 0.67857143, 2.        , ..., 1.        , 1.        ,\n",
              "        4.        ]])"
            ]
          },
          "execution_count": 195,
          "metadata": {},
          "output_type": "execute_result"
        }
      ],
      "source": [
        "X_prev"
      ]
    },
    {
      "cell_type": "code",
      "execution_count": 196,
      "metadata": {
        "colab": {
          "base_uri": "https://localhost:8080/"
        },
        "id": "y9YbfO5mGyuN",
        "outputId": "1d33ad59-dc7c-4506-f1a8-65d785131903"
      },
      "outputs": [
        {
          "data": {
            "text/plain": [
              "array([1., 1., 1., ..., 2., 2., 2.])"
            ]
          },
          "execution_count": 196,
          "metadata": {},
          "output_type": "execute_result"
        }
      ],
      "source": [
        "y_classe"
      ]
    },
    {
      "cell_type": "code",
      "execution_count": 197,
      "metadata": {
        "colab": {
          "base_uri": "https://localhost:8080/"
        },
        "id": "BBaT0pZRIocD",
        "outputId": "3574ddf9-50cb-4e67-d7b3-3092c468c320"
      },
      "outputs": [
        {
          "data": {
            "text/plain": [
              "(12222,)"
            ]
          },
          "execution_count": 197,
          "metadata": {},
          "output_type": "execute_result"
        }
      ],
      "source": [
        "y_classe.shape"
      ]
    },
    {
      "cell_type": "code",
      "execution_count": 198,
      "metadata": {
        "id": "BQ7sHFHmDz_b"
      },
      "outputs": [],
      "source": [
        "#X_train_ds, X_test_ds, y_train_ds, y_test_ds = train_test_split(X, y, test_size=0.3, random_state=123, shuffle=True, stratify=y)\n",
        "X_treino, X_teste, y_treino, y_teste = train_test_split(X_prev, y_classe, test_size = 0.20, random_state = 0)"
      ]
    },
    {
      "cell_type": "code",
      "execution_count": 199,
      "metadata": {
        "colab": {
          "base_uri": "https://localhost:8080/"
        },
        "id": "nXswVGPeK_HB",
        "outputId": "5f15c73c-2caa-42e9-8821-e9ef8aa2ecaa"
      },
      "outputs": [
        {
          "data": {
            "text/plain": [
              "(9777, 29)"
            ]
          },
          "execution_count": 199,
          "metadata": {},
          "output_type": "execute_result"
        }
      ],
      "source": [
        "X_treino.shape"
      ]
    },
    {
      "cell_type": "code",
      "execution_count": 200,
      "metadata": {
        "colab": {
          "base_uri": "https://localhost:8080/"
        },
        "id": "Qt1gTVyxLAvS",
        "outputId": "2e342a5f-1b31-485e-8202-ae1f1fd7f77a"
      },
      "outputs": [
        {
          "data": {
            "text/plain": [
              "(2445, 29)"
            ]
          },
          "execution_count": 200,
          "metadata": {},
          "output_type": "execute_result"
        }
      ],
      "source": [
        "X_teste.shape"
      ]
    },
    {
      "cell_type": "code",
      "execution_count": 201,
      "metadata": {
        "colab": {
          "base_uri": "https://localhost:8080/"
        },
        "id": "XmMPjC6A21vr",
        "outputId": "b51dccbf-ed1b-4027-9416-cd8f6e77f87c"
      },
      "outputs": [
        {
          "data": {
            "text/plain": [
              "array([[1.        , 0.3452381 , 1.        , ..., 1.        , 1.        ,\n",
              "        7.        ],\n",
              "       [2.        , 0.22619048, 2.        , ..., 1.        , 2.        ,\n",
              "        2.        ],\n",
              "       [2.        , 0.41666667, 2.        , ..., 1.5       , 2.        ,\n",
              "        4.        ],\n",
              "       ...,\n",
              "       [2.        , 0.76190476, 2.        , ..., 1.        , 1.5       ,\n",
              "        3.        ],\n",
              "       [2.        , 0.60714286, 2.        , ..., 1.        , 1.        ,\n",
              "        3.        ],\n",
              "       [2.        , 0.61904762, 2.        , ..., 1.5       , 1.5       ,\n",
              "        3.        ]])"
            ]
          },
          "execution_count": 201,
          "metadata": {},
          "output_type": "execute_result"
        }
      ],
      "source": [
        "X_teste"
      ]
    },
    {
      "cell_type": "code",
      "execution_count": 202,
      "metadata": {
        "colab": {
          "base_uri": "https://localhost:8080/"
        },
        "id": "Nd8g6k2ALDbU",
        "outputId": "af848e1c-a500-4e29-95ff-8fe2f0f9ad8a"
      },
      "outputs": [
        {
          "data": {
            "text/plain": [
              "array([1., 2., 1., ..., 2., 2., 1.])"
            ]
          },
          "execution_count": 202,
          "metadata": {},
          "output_type": "execute_result"
        }
      ],
      "source": [
        "y_treino"
      ]
    },
    {
      "cell_type": "code",
      "execution_count": 203,
      "metadata": {
        "colab": {
          "base_uri": "https://localhost:8080/"
        },
        "id": "8VliUzP_LH5G",
        "outputId": "39f02eca-72b0-4415-b844-66a79c006689"
      },
      "outputs": [
        {
          "data": {
            "text/plain": [
              "array([2., 1., 2., ..., 2., 1., 2.])"
            ]
          },
          "execution_count": 203,
          "metadata": {},
          "output_type": "execute_result"
        }
      ],
      "source": [
        "y_teste"
      ]
    },
    {
      "cell_type": "code",
      "execution_count": 204,
      "metadata": {
        "id": "zbE73RVVVPbW"
      },
      "outputs": [],
      "source": [
        "import pickle"
      ]
    },
    {
      "cell_type": "code",
      "execution_count": 205,
      "metadata": {
        "id": "v6E--H7lViHH"
      },
      "outputs": [],
      "source": [
        "with open('merge.pkl', mode = 'wb') as f:\n",
        "  pickle.dump([X_treino, X_teste, y_treino, y_teste], f)"
      ]
    }
  ],
  "metadata": {
    "colab": {
      "collapsed_sections": [],
      "provenance": []
    },
    "kernelspec": {
      "display_name": "Python 3",
      "name": "python3"
    },
    "language_info": {
      "codemirror_mode": {
        "name": "ipython",
        "version": 3
      },
      "file_extension": ".py",
      "mimetype": "text/x-python",
      "name": "python",
      "nbconvert_exporter": "python",
      "pygments_lexer": "ipython3",
      "version": "3.10.6"
    }
  },
  "nbformat": 4,
  "nbformat_minor": 0
}
