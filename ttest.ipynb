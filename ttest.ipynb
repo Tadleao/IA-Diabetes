{
 "cells": [
  {
   "cell_type": "code",
   "execution_count": 30,
   "metadata": {},
   "outputs": [
    {
     "name": "stdout",
     "output_type": "stream",
     "text": [
      "t-statistic: -5.094503762299394\n",
      "p-value: 8.678335608366695e-05\n",
      "Reject the null hypothesis. There is a significant difference between the groups.\n",
      "t-statistic: -20.104804742646945\n",
      "p-value: 8.801015277355067e-14\n",
      "Reject the null hypothesis. There is a significant difference between the groups.\n",
      "t-statistic: -10.16281931351843\n",
      "p-value: 6.9615138140295956e-09\n",
      "Reject the null hypothesis. There is a significant difference between the groups.\n"
     ]
    }
   ],
   "source": [
    "import numpy as np\n",
    "from scipy import stats\n",
    "\n",
    "# Sample data for two groups\n",
    "group1 = np.array([0.8196591359492668, 0.828548644338118, 0.8035714285714286, 0.8276959808993235, 0.8248146703082325, 0.8234375, 0.8244213886671987, 0.8082815734989648, 0.8208653457339264, 0.8159362549800797])\n",
    "group2 = np.array([0.8152808988764045, 0.8403152218996267, 0.8492230155396892, 0.8448873483535528, 0.8399668325041459, 0.8512605042016806, 0.8438187417509899, 0.8412698412698413, 0.8349680170575693, 0.8480958493795464] )\n",
    "group3 = np.array([0.8752607425949103, 0.8687290969899666, 0.8759305210918115, 0.8752079866888519, 0.8769742310889443, 0.8786994581075448, 0.8746887966804979, 0.8779675135360266, 0.8743760399334443, 0.8729096989966555])\n",
    "#1 -AD 2 - MLP 3- RF## Perform the independent t-test\n",
    "t_statistic, p_value = stats.ttest_ind(group1, group2, equal_var=False)\n",
    "\n",
    "print(f\"t-statistic: {t_statistic}\")\n",
    "print(f\"p-value: {p_value}\")\n",
    "\n",
    "# Check significance\n",
    "alpha = 0.05\n",
    "if p_value < alpha:\n",
    "    print(\"Reject the null hypothesis. There is a significant difference between the groups.\")\n",
    "else:\n",
    "    print(\"Fail to reject the null hypothesis. There is no significant difference between the groups.\")\n",
    "\n",
    "t_statistic, p_value = stats.ttest_ind(group1, group3)\n",
    "print(f\"t-statistic: {t_statistic}\")\n",
    "print(f\"p-value: {p_value}\")\n",
    "\n",
    "# Check significance\n",
    "alpha = 0.05\n",
    "if p_value < alpha:\n",
    "    print(\"Reject the null hypothesis. There is a significant difference between the groups.\")\n",
    "else:\n",
    "    print(\"Fail to reject the null hypothesis. There is no significant difference between the groups.\")\n",
    "t_statistic, p_value = stats.ttest_ind(group2, group3)\n",
    "print(f\"t-statistic: {t_statistic}\")\n",
    "print(f\"p-value: {p_value}\")\n",
    "\n",
    "# Check significance\n",
    "alpha = 0.05\n",
    "if p_value < alpha:\n",
    "    print(\"Reject the null hypothesis. There is a significant difference between the groups.\")\n",
    "else:\n",
    "    print(\"Fail to reject the null hypothesis. There is no significant difference between the groups.\")"
   ]
  }
 ],
 "metadata": {
  "language_info": {
   "name": "python"
  }
 },
 "nbformat": 4,
 "nbformat_minor": 2
}
